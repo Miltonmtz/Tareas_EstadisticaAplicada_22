{
 "cells": [
  {
   "cell_type": "markdown",
   "id": "780c1786",
   "metadata": {},
   "source": [
    "Alumno: Milton Aldair Martínez Acosta  \n",
    "\n",
    "Matrícula: 1870354\n",
    "\n",
    "Estadística Aplicada\n",
    "\n",
    "Grupo: 051"
   ]
  },
  {
   "cell_type": "markdown",
   "id": "ae5706e5-c78e-4d3f-a8c0-a0d05a34ceec",
   "metadata": {
    "id": "ae5706e5-c78e-4d3f-a8c0-a0d05a34ceec"
   },
   "source": [
    "# pronóstico de series de tiempo"
   ]
  },
  {
   "cell_type": "markdown",
   "id": "fbab081d-9ddf-49c4-9dbf-991046695b65",
   "metadata": {
    "id": "fbab081d-9ddf-49c4-9dbf-991046695b65"
   },
   "source": [
    "En esta notebook vamos a realizar el pronóstico de una serie de tiempo\n",
    "1. Descargaremos los datos\n",
    "2. Graficaremos la series para darnos una idea de su comportamiento\n",
    "3. realizaremos una prueba de raíz unitaria para comprobrar si la serie es estacionaria\n",
    "4. Diferenciaremos la serie en caso de que no sea estacionaria\n",
    "5. Realizamos la prueba a la serie diferenciada para ver si es estacionaria\n",
    "6. Graficaremos la serie estacionaria\n",
    "7. realizaremos su ACF y PACF para tratar de identificar que tipo de proceso es MA(q), AR(P), ARMA(p,q), etc\n",
    "8. Estimamos distintos modelos\n",
    "9. Elegimos el modelo\n",
    "10. Realizamos el pronóstico "
   ]
  },
  {
   "cell_type": "code",
   "execution_count": 2,
   "id": "33df1691-3fef-405f-8a39-8377ec72c594",
   "metadata": {
    "id": "33df1691-3fef-405f-8a39-8377ec72c594"
   },
   "outputs": [],
   "source": [
    "# como siempre comenzamos importando las librerias\n",
    "import numpy as np\n",
    "import pandas as pd \n",
    "import yfinance as yf\n",
    "import scipy.stats as stats\n",
    "import matplotlib.pyplot as plt\n",
    "from statsmodels.graphics.tsaplots import plot_acf\n",
    "from statsmodels.graphics.tsaplots import plot_pacf\n",
    "from statsmodels.tsa.stattools import acf\n",
    "from statsmodels.tsa.stattools import pacf\n",
    "from statsmodels.tsa.stattools import adfuller\n",
    "from statsmodels.tsa.arima_process import ArmaProcess\n",
    "from statsmodels.tsa.arima.model import ARIMA\n",
    "\n",
    "%matplotlib inline"
   ]
  },
  {
   "cell_type": "code",
   "execution_count": 10,
   "id": "9d02ce75-4fb9-4d71-b094-057ed1d71d7d",
   "metadata": {
    "id": "9d02ce75-4fb9-4d71-b094-057ed1d71d7d"
   },
   "outputs": [],
   "source": [
    "#fijamos tamaño de graficas\n",
    "plt.rcParams['figure.figsize'] = [10, 7.5]"
   ]
  },
  {
   "cell_type": "markdown",
   "id": "d6b3e9aa-b042-442d-9620-6cc1ff4fc407",
   "metadata": {
    "id": "d6b3e9aa-b042-442d-9620-6cc1ff4fc407"
   },
   "source": [
    "## 1. Importamos los datos desde la api de yahoo finance"
   ]
  },
  {
   "cell_type": "markdown",
   "id": "cbd85856-0cbd-4289-bb3a-0c2ebf23c47d",
   "metadata": {
    "id": "cbd85856-0cbd-4289-bb3a-0c2ebf23c47d"
   },
   "source": [
    "en mi caso yo voy a utilizar las acciones de PEPSICO y voy a utilizar la información de los 21 meses hasta el día viernes, que es cuando estuvo abierta la bolsa"
   ]
  },
  {
   "cell_type": "code",
   "execution_count": 4,
   "id": "b0f5c7b1-c26e-46bd-90da-f9d3f8983bfd",
   "metadata": {
    "id": "b0f5c7b1-c26e-46bd-90da-f9d3f8983bfd"
   },
   "outputs": [],
   "source": [
    "#recuerda instalar yahoo finance con-> pip install yfinance\n",
    "pep = yf.download('PEP', \n",
    "                       start='2020-06-11', \n",
    "                       end='2022-03-12',\n",
    "                       progress=False)"
   ]
  },
  {
   "cell_type": "code",
   "execution_count": 5,
   "id": "9c7f1aec-6ca7-477f-9699-5467054b0934",
   "metadata": {
    "colab": {
     "base_uri": "https://localhost:8080/",
     "height": 394
    },
    "id": "9c7f1aec-6ca7-477f-9699-5467054b0934",
    "outputId": "a7fbf295-51fb-4e04-f29a-ab4d40d77be1",
    "scrolled": true
   },
   "outputs": [
    {
     "data": {
      "text/html": [
       "<div>\n",
       "<style scoped>\n",
       "    .dataframe tbody tr th:only-of-type {\n",
       "        vertical-align: middle;\n",
       "    }\n",
       "\n",
       "    .dataframe tbody tr th {\n",
       "        vertical-align: top;\n",
       "    }\n",
       "\n",
       "    .dataframe thead th {\n",
       "        text-align: right;\n",
       "    }\n",
       "</style>\n",
       "<table border=\"1\" class=\"dataframe\">\n",
       "  <thead>\n",
       "    <tr style=\"text-align: right;\">\n",
       "      <th></th>\n",
       "      <th>Open</th>\n",
       "      <th>High</th>\n",
       "      <th>Low</th>\n",
       "      <th>Close</th>\n",
       "      <th>Adj Close</th>\n",
       "      <th>Volume</th>\n",
       "    </tr>\n",
       "    <tr>\n",
       "      <th>Date</th>\n",
       "      <th></th>\n",
       "      <th></th>\n",
       "      <th></th>\n",
       "      <th></th>\n",
       "      <th></th>\n",
       "      <th></th>\n",
       "    </tr>\n",
       "  </thead>\n",
       "  <tbody>\n",
       "    <tr>\n",
       "      <th>2022-02-28</th>\n",
       "      <td>164.039993</td>\n",
       "      <td>165.210007</td>\n",
       "      <td>161.410004</td>\n",
       "      <td>163.740005</td>\n",
       "      <td>162.670105</td>\n",
       "      <td>7673500</td>\n",
       "    </tr>\n",
       "    <tr>\n",
       "      <th>2022-03-01</th>\n",
       "      <td>163.070007</td>\n",
       "      <td>164.399994</td>\n",
       "      <td>161.300003</td>\n",
       "      <td>162.270004</td>\n",
       "      <td>161.209702</td>\n",
       "      <td>5107900</td>\n",
       "    </tr>\n",
       "    <tr>\n",
       "      <th>2022-03-02</th>\n",
       "      <td>162.979996</td>\n",
       "      <td>165.820007</td>\n",
       "      <td>162.490005</td>\n",
       "      <td>164.520004</td>\n",
       "      <td>163.445007</td>\n",
       "      <td>5452100</td>\n",
       "    </tr>\n",
       "    <tr>\n",
       "      <th>2022-03-03</th>\n",
       "      <td>163.970001</td>\n",
       "      <td>165.190002</td>\n",
       "      <td>162.800003</td>\n",
       "      <td>163.270004</td>\n",
       "      <td>163.270004</td>\n",
       "      <td>5352200</td>\n",
       "    </tr>\n",
       "    <tr>\n",
       "      <th>2022-03-04</th>\n",
       "      <td>162.000000</td>\n",
       "      <td>166.500000</td>\n",
       "      <td>160.919998</td>\n",
       "      <td>165.750000</td>\n",
       "      <td>165.750000</td>\n",
       "      <td>6340300</td>\n",
       "    </tr>\n",
       "    <tr>\n",
       "      <th>2022-03-07</th>\n",
       "      <td>164.070007</td>\n",
       "      <td>165.149994</td>\n",
       "      <td>162.130005</td>\n",
       "      <td>162.449997</td>\n",
       "      <td>162.449997</td>\n",
       "      <td>6319500</td>\n",
       "    </tr>\n",
       "    <tr>\n",
       "      <th>2022-03-08</th>\n",
       "      <td>162.380005</td>\n",
       "      <td>163.970001</td>\n",
       "      <td>157.690002</td>\n",
       "      <td>157.869995</td>\n",
       "      <td>157.869995</td>\n",
       "      <td>6163700</td>\n",
       "    </tr>\n",
       "    <tr>\n",
       "      <th>2022-03-09</th>\n",
       "      <td>159.809998</td>\n",
       "      <td>160.059998</td>\n",
       "      <td>156.399994</td>\n",
       "      <td>157.399994</td>\n",
       "      <td>157.399994</td>\n",
       "      <td>5764900</td>\n",
       "    </tr>\n",
       "    <tr>\n",
       "      <th>2022-03-10</th>\n",
       "      <td>155.789993</td>\n",
       "      <td>156.250000</td>\n",
       "      <td>153.369995</td>\n",
       "      <td>154.509995</td>\n",
       "      <td>154.509995</td>\n",
       "      <td>6103700</td>\n",
       "    </tr>\n",
       "    <tr>\n",
       "      <th>2022-03-11</th>\n",
       "      <td>155.449997</td>\n",
       "      <td>156.889999</td>\n",
       "      <td>153.479996</td>\n",
       "      <td>153.729996</td>\n",
       "      <td>153.729996</td>\n",
       "      <td>4762600</td>\n",
       "    </tr>\n",
       "  </tbody>\n",
       "</table>\n",
       "</div>"
      ],
      "text/plain": [
       "                  Open        High         Low       Close   Adj Close  \\\n",
       "Date                                                                     \n",
       "2022-02-28  164.039993  165.210007  161.410004  163.740005  162.670105   \n",
       "2022-03-01  163.070007  164.399994  161.300003  162.270004  161.209702   \n",
       "2022-03-02  162.979996  165.820007  162.490005  164.520004  163.445007   \n",
       "2022-03-03  163.970001  165.190002  162.800003  163.270004  163.270004   \n",
       "2022-03-04  162.000000  166.500000  160.919998  165.750000  165.750000   \n",
       "2022-03-07  164.070007  165.149994  162.130005  162.449997  162.449997   \n",
       "2022-03-08  162.380005  163.970001  157.690002  157.869995  157.869995   \n",
       "2022-03-09  159.809998  160.059998  156.399994  157.399994  157.399994   \n",
       "2022-03-10  155.789993  156.250000  153.369995  154.509995  154.509995   \n",
       "2022-03-11  155.449997  156.889999  153.479996  153.729996  153.729996   \n",
       "\n",
       "             Volume  \n",
       "Date                 \n",
       "2022-02-28  7673500  \n",
       "2022-03-01  5107900  \n",
       "2022-03-02  5452100  \n",
       "2022-03-03  5352200  \n",
       "2022-03-04  6340300  \n",
       "2022-03-07  6319500  \n",
       "2022-03-08  6163700  \n",
       "2022-03-09  5764900  \n",
       "2022-03-10  6103700  \n",
       "2022-03-11  4762600  "
      ]
     },
     "execution_count": 5,
     "metadata": {},
     "output_type": "execute_result"
    }
   ],
   "source": [
    "#vemos los ultimos 10 datos\n",
    "pep.tail(10)"
   ]
  },
  {
   "cell_type": "code",
   "execution_count": 6,
   "id": "7ffe0568-7cd5-4023-a918-51e6ddd78b85",
   "metadata": {
    "id": "7ffe0568-7cd5-4023-a918-51e6ddd78b85"
   },
   "outputs": [],
   "source": [
    "##Voy renombar columna 'Adj Close' por adj_close \n",
    "pep.rename(columns = {'Adj Close':'adj_close'}, inplace=True)"
   ]
  },
  {
   "cell_type": "code",
   "execution_count": 11,
   "id": "3d285176-a55d-4ef9-8600-4ddc7619b15d",
   "metadata": {
    "colab": {
     "base_uri": "https://localhost:8080/",
     "height": 464
    },
    "id": "3d285176-a55d-4ef9-8600-4ddc7619b15d",
    "outputId": "744b46ab-e460-45aa-d965-3d1edf4fa1bb",
    "scrolled": true
   },
   "outputs": [
    {
     "data": {
      "image/png": "[encoded data removed]",
      "text/plain": [
       "<Figure size 720x540 with 1 Axes>"
      ]
     },
     "metadata": {
      "needs_background": "light"
     },
     "output_type": "display_data"
    }
   ],
   "source": [
    "# vamos a graficar\n",
    "pep.adj_close.plot()\n",
    "plt.title('Precio de acción de pepsico en pesos (11 marzo 2019 - 11 marzo 2022)')\n",
    "plt.show()"
   ]
  },
  {
   "cell_type": "code",
   "execution_count": 12,
   "id": "91857505-e616-47bc-9488-589fe6afd70a",
   "metadata": {
    "colab": {
     "base_uri": "https://localhost:8080/"
    },
    "id": "91857505-e616-47bc-9488-589fe6afd70a",
    "outputId": "7e03b113-d349-4d70-b938-6d03ca01ef47"
   },
   "outputs": [
    {
     "name": "stdout",
     "output_type": "stream",
     "text": [
      "p-value: 0.534653\n"
     ]
    }
   ],
   "source": [
    "#hacemos la prueba de dickey fuller aumentada ADF\n",
    "adf = adfuller(pep['adj_close'])\n",
    "\n",
    "#presentamos el p-value\n",
    "print('p-value: %f' % adf[1])\n",
    "\n"
   ]
  },
  {
   "cell_type": "markdown",
   "id": "462c80c9-f448-4c53-94e3-8b19994e00f4",
   "metadata": {
    "id": "462c80c9-f448-4c53-94e3-8b19994e00f4"
   },
   "source": [
    "Recuerda que $H_0$: serie no estacionaria"
   ]
  },
  {
   "cell_type": "code",
   "execution_count": 13,
   "id": "33a2b8bb-7dc1-4c03-acc2-41e146159836",
   "metadata": {
    "colab": {
     "base_uri": "https://localhost:8080/"
    },
    "id": "33a2b8bb-7dc1-4c03-acc2-41e146159836",
    "outputId": "cfa05f92-cebe-4bd5-f747-9e57c5f858fd"
   },
   "outputs": [
    {
     "name": "stdout",
     "output_type": "stream",
     "text": [
      "con un un p-value = 0.535\n",
      " NO se rechaza hipótesis nula, serie no estacionaria\n"
     ]
    }
   ],
   "source": [
    "if adf[1] < 0.05:\n",
    "    \n",
    "    print(f'con un un p-value={adf[1].round(3)}\\n Se rechaza hipótesis nula, serie estacionaria') \n",
    "    \n",
    "else:\n",
    "    \n",
    "    print(f'con un un p-value = {adf[1].round(3)}\\n NO se rechaza hipótesis nula, serie no estacionaria') \n"
   ]
  },
  {
   "cell_type": "markdown",
   "id": "0f21dd97-1ea0-4a22-b490-9dc9b0499510",
   "metadata": {
    "id": "0f21dd97-1ea0-4a22-b490-9dc9b0499510"
   },
   "source": [
    "para hacer la serie estacionaria, usaremos lafunción shift de pandas \n",
    "\n",
    "y guardaremos la serie diferenciada en un objeto aparte"
   ]
  },
  {
   "cell_type": "code",
   "execution_count": 14,
   "id": "00211906-3c5a-41b9-bff9-c436bf90c77f",
   "metadata": {
    "id": "00211906-3c5a-41b9-bff9-c436bf90c77f"
   },
   "outputs": [],
   "source": [
    "pep_diff = pep['adj_close'] - pep['adj_close'].shift()"
   ]
  },
  {
   "cell_type": "code",
   "execution_count": 27,
   "id": "5f0614ac-8a8a-4399-9bec-4c675999348b",
   "metadata": {
    "colab": {
     "base_uri": "https://localhost:8080/",
     "height": 464
    },
    "id": "5f0614ac-8a8a-4399-9bec-4c675999348b",
    "outputId": "80190921-a486-462e-a169-c6dc5f21fbda"
   },
   "outputs": [
    {
     "data": {
      "image/png": "[encoded data removed]",
      "text/plain": [
       "<Figure size 720x540 with 1 Axes>"
      ]
     },
     "metadata": {
      "needs_background": "light"
     },
     "output_type": "display_data"
    }
   ],
   "source": [
    "#graficamos el tipo de cambio diferenciado\n",
    "pep_diff.plot()\n",
    "plt.title('Precio de acción de pepsico diferenciada en pesos, (11 junio 2020 - 11 marzo 2022)')\n",
    "plt.show()"
   ]
  },
  {
   "cell_type": "code",
   "execution_count": 16,
   "id": "3827dbf1-f7d1-4a7f-bb7e-40f11203cf93",
   "metadata": {
    "id": "3827dbf1-f7d1-4a7f-bb7e-40f11203cf93"
   },
   "outputs": [],
   "source": [
    "#eliminamos los Nan\n",
    "pep_diff = pep_diff.dropna()"
   ]
  },
  {
   "cell_type": "code",
   "execution_count": 17,
   "id": "440c7cd2-1fdc-43a4-bc64-ed90d4243378",
   "metadata": {
    "id": "440c7cd2-1fdc-43a4-bc64-ed90d4243378"
   },
   "outputs": [],
   "source": [
    "## como la serie tiene saltos (los fines de semana los mercados no abren)\n",
    "## removeremos la fecha\n",
    "pep_diff = pep_diff.reset_index()\n",
    "\n",
    "### eliminamos columna fecha\n",
    "pep_diff = pep_diff.drop(['Date'], axis=1)"
   ]
  },
  {
   "cell_type": "code",
   "execution_count": 29,
   "id": "66d417dc-5d8b-4d91-b9d8-97dc94e2d96a",
   "metadata": {
    "colab": {
     "base_uri": "https://localhost:8080/",
     "height": 423
    },
    "id": "66d417dc-5d8b-4d91-b9d8-97dc94e2d96a",
    "outputId": "8a9e428a-7824-4183-8942-ef60a1f86fe6"
   },
   "outputs": [
    {
     "data": {
      "text/html": [
       "<div>\n",
       "<style scoped>\n",
       "    .dataframe tbody tr th:only-of-type {\n",
       "        vertical-align: middle;\n",
       "    }\n",
       "\n",
       "    .dataframe tbody tr th {\n",
       "        vertical-align: top;\n",
       "    }\n",
       "\n",
       "    .dataframe thead th {\n",
       "        text-align: right;\n",
       "    }\n",
       "</style>\n",
       "<table border=\"1\" class=\"dataframe\">\n",
       "  <thead>\n",
       "    <tr style=\"text-align: right;\">\n",
       "      <th></th>\n",
       "      <th>adj_close</th>\n",
       "    </tr>\n",
       "  </thead>\n",
       "  <tbody>\n",
       "    <tr>\n",
       "      <th>0</th>\n",
       "      <td>1.103851</td>\n",
       "    </tr>\n",
       "    <tr>\n",
       "      <th>1</th>\n",
       "      <td>1.408363</td>\n",
       "    </tr>\n",
       "    <tr>\n",
       "      <th>2</th>\n",
       "      <td>1.132408</td>\n",
       "    </tr>\n",
       "    <tr>\n",
       "      <th>3</th>\n",
       "      <td>0.085602</td>\n",
       "    </tr>\n",
       "    <tr>\n",
       "      <th>4</th>\n",
       "      <td>0.970642</td>\n",
       "    </tr>\n",
       "    <tr>\n",
       "      <th>...</th>\n",
       "      <td>...</td>\n",
       "    </tr>\n",
       "    <tr>\n",
       "      <th>436</th>\n",
       "      <td>-3.300003</td>\n",
       "    </tr>\n",
       "    <tr>\n",
       "      <th>437</th>\n",
       "      <td>-4.580002</td>\n",
       "    </tr>\n",
       "    <tr>\n",
       "      <th>438</th>\n",
       "      <td>-0.470001</td>\n",
       "    </tr>\n",
       "    <tr>\n",
       "      <th>439</th>\n",
       "      <td>-2.889999</td>\n",
       "    </tr>\n",
       "    <tr>\n",
       "      <th>440</th>\n",
       "      <td>-0.779999</td>\n",
       "    </tr>\n",
       "  </tbody>\n",
       "</table>\n",
       "<p>441 rows × 1 columns</p>\n",
       "</div>"
      ],
      "text/plain": [
       "     adj_close\n",
       "0     1.103851\n",
       "1     1.408363\n",
       "2     1.132408\n",
       "3     0.085602\n",
       "4     0.970642\n",
       "..         ...\n",
       "436  -3.300003\n",
       "437  -4.580002\n",
       "438  -0.470001\n",
       "439  -2.889999\n",
       "440  -0.779999\n",
       "\n",
       "[441 rows x 1 columns]"
      ]
     },
     "execution_count": 29,
     "metadata": {},
     "output_type": "execute_result"
    }
   ],
   "source": [
    "pep_diff"
   ]
  },
  {
   "cell_type": "markdown",
   "id": "844b175b-830a-4e05-a4c4-c5fe812f408a",
   "metadata": {
    "id": "844b175b-830a-4e05-a4c4-c5fe812f408a"
   },
   "source": [
    "volvemos a realizar la prueba de raíz unitaria ADF"
   ]
  },
  {
   "cell_type": "code",
   "execution_count": 20,
   "id": "dba1da75",
   "metadata": {},
   "outputs": [
    {
     "name": "stdout",
     "output_type": "stream",
     "text": [
      "p-value: 0.000000\n"
     ]
    }
   ],
   "source": [
    "#hacemos la prueba de dickey fuller aumentada ADF\n",
    "adf1 = adfuller(pep_diff)\n",
    "\n",
    "#presentamos el p-value\n",
    "print('p-value: %f' % adf1[1])"
   ]
  },
  {
   "cell_type": "code",
   "execution_count": 21,
   "id": "2407b303-3579-474b-ba45-0cb91d46e1d9",
   "metadata": {
    "colab": {
     "base_uri": "https://localhost:8080/"
    },
    "id": "2407b303-3579-474b-ba45-0cb91d46e1d9",
    "outputId": "1495fc34-7981-43b4-d957-8ad8e7d9d8ae",
    "tags": []
   },
   "outputs": [
    {
     "name": "stdout",
     "output_type": "stream",
     "text": [
      "con un un p-value=0.0\n",
      " Se rechaza hipótesis nula, serie estacionaria\n"
     ]
    }
   ],
   "source": [
    "adf1 = adfuller(pep_diff)\n",
    "if adf1[1] < 0.05:\n",
    "    \n",
    "    print(f'con un un p-value={adf1[1]}\\n Se rechaza hipótesis nula, serie estacionaria') \n",
    "    \n",
    "else:\n",
    "    \n",
    "    print(f'con un un p-value = {adf1[1]}\\n NO se rechaza hipótesis nula, serie no estacionaria') \n"
   ]
  },
  {
   "cell_type": "markdown",
   "id": "ca0f07f5-73e4-4388-9791-be4415d3556d",
   "metadata": {
    "id": "ca0f07f5-73e4-4388-9791-be4415d3556d"
   },
   "source": [
    "Ahora que la serie ya es estacionaria, podemos hacer pronósticos con ella\n",
    "por tanto debemos identificar que tipo de proceso es\n"
   ]
  },
  {
   "cell_type": "code",
   "execution_count": 25,
   "id": "8fbebe87-21e6-4c95-9c1c-63c7e881297f",
   "metadata": {
    "colab": {
     "base_uri": "https://localhost:8080/",
     "height": 472
    },
    "id": "8fbebe87-21e6-4c95-9c1c-63c7e881297f",
    "outputId": "d3053646-0809-4c7d-8d76-6011ee9698b6"
   },
   "outputs": [
    {
     "data": {
      "image/png": "[encoded data removed]",
      "text/plain": [
       "<Figure size 720x540 with 1 Axes>"
      ]
     },
     "metadata": {
      "needs_background": "light"
     },
     "output_type": "display_data"
    }
   ],
   "source": [
    "#grafica de autocorrelación ACF\n",
    "plot_acf(pep_diff, zero=False, lags=30)\n",
    "plt.title('Función de autocorrelación diferencia de PEP')\n",
    "plt.ylim(-0.2,0.2)\n",
    "plt.show()"
   ]
  },
  {
   "cell_type": "code",
   "execution_count": 26,
   "id": "3c8b330c-d281-40a7-afcd-7eb120cb0d7b",
   "metadata": {
    "colab": {
     "base_uri": "https://localhost:8080/",
     "height": 472
    },
    "id": "3c8b330c-d281-40a7-afcd-7eb120cb0d7b",
    "outputId": "60ea97ea-40e1-4593-9798-5efd86f04a98"
   },
   "outputs": [
    {
     "data": {
      "image/png": "[encoded data removed]",
      "text/plain": [
       "<Figure size 720x540 with 1 Axes>"
      ]
     },
     "metadata": {
      "needs_background": "light"
     },
     "output_type": "display_data"
    }
   ],
   "source": [
    "#grafica de autocorrelación parcial PACF\n",
    "plot_pacf(pep_diff, zero=False, lags=30)\n",
    "plt.title('Función de autocorrelación parcial diferencia de PEP')\n",
    "plt.ylim(-0.2,0.2)\n",
    "plt.show()"
   ]
  },
  {
   "cell_type": "markdown",
   "id": "2e35f859-98ab-4cde-9f7f-844c3d5ece60",
   "metadata": {
    "id": "2e35f859-98ab-4cde-9f7f-844c3d5ece60"
   },
   "source": [
    "nota que el primer rezago de ACF y PACF es significativo, por lo que parece que la diferencia de las acciones de pep es en ARMA (1,1) "
   ]
  },
  {
   "cell_type": "code",
   "execution_count": 44,
   "id": "65cf1f94-21c8-4e1f-bdad-764c07bf76d4",
   "metadata": {
    "colab": {
     "base_uri": "https://localhost:8080/",
     "height": 323
    },
    "id": "65cf1f94-21c8-4e1f-bdad-764c07bf76d4",
    "outputId": "9b8df381-4cf9-4c5f-b678-8ba0f710ab20"
   },
   "outputs": [
    {
     "data": {
      "text/html": [
       "<table class=\"simpletable\">\n",
       "<caption>SARIMAX Results</caption>\n",
       "<tr>\n",
       "  <th>Dep. Variable:</th>       <td>adj_close</td>    <th>  No. Observations:  </th>    <td>441</td>  \n",
       "</tr>\n",
       "<tr>\n",
       "  <th>Model:</th>            <td>ARIMA(1, 0, 1)</td>  <th>  Log Likelihood     </th> <td>-778.884</td>\n",
       "</tr>\n",
       "<tr>\n",
       "  <th>Date:</th>            <td>Sun, 13 Mar 2022</td> <th>  AIC                </th> <td>1565.768</td>\n",
       "</tr>\n",
       "<tr>\n",
       "  <th>Time:</th>                <td>21:09:25</td>     <th>  BIC                </th> <td>1582.124</td>\n",
       "</tr>\n",
       "<tr>\n",
       "  <th>Sample:</th>                  <td>0</td>        <th>  HQIC               </th> <td>1572.220</td>\n",
       "</tr>\n",
       "<tr>\n",
       "  <th></th>                      <td> - 441</td>      <th>                     </th>     <td> </td>   \n",
       "</tr>\n",
       "<tr>\n",
       "  <th>Covariance Type:</th>        <td>opg</td>       <th>                     </th>     <td> </td>   \n",
       "</tr>\n",
       "</table>\n",
       "<table class=\"simpletable\">\n",
       "<tr>\n",
       "     <td></td>       <th>coef</th>     <th>std err</th>      <th>z</th>      <th>P>|z|</th>  <th>[0.025</th>    <th>0.975]</th>  \n",
       "</tr>\n",
       "<tr>\n",
       "  <th>const</th>  <td>    0.0727</td> <td>    0.063</td> <td>    1.146</td> <td> 0.252</td> <td>   -0.052</td> <td>    0.197</td>\n",
       "</tr>\n",
       "<tr>\n",
       "  <th>ar.L1</th>  <td>   -0.0771</td> <td>    0.492</td> <td>   -0.157</td> <td> 0.875</td> <td>   -1.041</td> <td>    0.887</td>\n",
       "</tr>\n",
       "<tr>\n",
       "  <th>ma.L1</th>  <td>   -0.0109</td> <td>    0.499</td> <td>   -0.022</td> <td> 0.983</td> <td>   -0.988</td> <td>    0.967</td>\n",
       "</tr>\n",
       "<tr>\n",
       "  <th>sigma2</th> <td>    2.0026</td> <td>    0.110</td> <td>   18.211</td> <td> 0.000</td> <td>    1.787</td> <td>    2.218</td>\n",
       "</tr>\n",
       "</table>\n",
       "<table class=\"simpletable\">\n",
       "<tr>\n",
       "  <th>Ljung-Box (L1) (Q):</th>     <td>0.00</td> <th>  Jarque-Bera (JB):  </th> <td>24.17</td>\n",
       "</tr>\n",
       "<tr>\n",
       "  <th>Prob(Q):</th>                <td>1.00</td> <th>  Prob(JB):          </th> <td>0.00</td> \n",
       "</tr>\n",
       "<tr>\n",
       "  <th>Heteroskedasticity (H):</th> <td>1.37</td> <th>  Skew:              </th> <td>-0.21</td>\n",
       "</tr>\n",
       "<tr>\n",
       "  <th>Prob(H) (two-sided):</th>    <td>0.06</td> <th>  Kurtosis:          </th> <td>4.07</td> \n",
       "</tr>\n",
       "</table><br/><br/>Warnings:<br/>[1] Covariance matrix calculated using the outer product of gradients (complex-step)."
      ],
      "text/plain": [
       "<class 'statsmodels.iolib.summary.Summary'>\n",
       "\"\"\"\n",
       "                               SARIMAX Results                                \n",
       "==============================================================================\n",
       "Dep. Variable:              adj_close   No. Observations:                  441\n",
       "Model:                 ARIMA(1, 0, 1)   Log Likelihood                -778.884\n",
       "Date:                Sun, 13 Mar 2022   AIC                           1565.768\n",
       "Time:                        21:09:25   BIC                           1582.124\n",
       "Sample:                             0   HQIC                          1572.220\n",
       "                                - 441                                         \n",
       "Covariance Type:                  opg                                         \n",
       "==============================================================================\n",
       "                 coef    std err          z      P>|z|      [0.025      0.975]\n",
       "------------------------------------------------------------------------------\n",
       "const          0.0727      0.063      1.146      0.252      -0.052       0.197\n",
       "ar.L1         -0.0771      0.492     -0.157      0.875      -1.041       0.887\n",
       "ma.L1         -0.0109      0.499     -0.022      0.983      -0.988       0.967\n",
       "sigma2         2.0026      0.110     18.211      0.000       1.787       2.218\n",
       "===================================================================================\n",
       "Ljung-Box (L1) (Q):                   0.00   Jarque-Bera (JB):                24.17\n",
       "Prob(Q):                              1.00   Prob(JB):                         0.00\n",
       "Heteroskedasticity (H):               1.37   Skew:                            -0.21\n",
       "Prob(H) (two-sided):                  0.06   Kurtosis:                         4.07\n",
       "===================================================================================\n",
       "\n",
       "Warnings:\n",
       "[1] Covariance matrix calculated using the outer product of gradients (complex-step).\n",
       "\"\"\""
      ]
     },
     "execution_count": 44,
     "metadata": {},
     "output_type": "execute_result"
    }
   ],
   "source": [
    "# estimamos un ARMA (1,1)\n",
    "modelo = ARIMA(pep_diff, order=(1, 0, 1))\n",
    "resultado = modelo.fit()\n",
    "resultado.summary()"
   ]
  },
  {
   "cell_type": "markdown",
   "id": "08216f52-1dba-47f3-a352-2cb810cce639",
   "metadata": {
    "id": "08216f52-1dba-47f3-a352-2cb810cce639"
   },
   "source": [
    "Note que la constante no es significativa, es decir, es cero. Pero los coeficientes de los rezagos si son significativos (distintos de cero) acuerdo con sus p-values"
   ]
  },
  {
   "cell_type": "markdown",
   "id": "855eaee5-927a-4906-9e18-2134b9e35d7d",
   "metadata": {
    "id": "855eaee5-927a-4906-9e18-2134b9e35d7d"
   },
   "source": [
    "Aunque los ACF y PACF nos sugieren un ARMA(1,1), no son del todo precisos, asi que vamos a estimar varios modelos con 6 rezagos de AR, 6rezagos de MA y elegir uno de acuerdo con el BIC (criterio bayesiano de información)"
   ]
  },
  {
   "cell_type": "code",
   "execution_count": 45,
   "id": "52f89740-5cb3-4604-acbf-09a85b4332b0",
   "metadata": {
    "colab": {
     "base_uri": "https://localhost:8080/",
     "height": 1000
    },
    "id": "52f89740-5cb3-4604-acbf-09a85b4332b0",
    "outputId": "627ce109-13f2-4717-a17e-f997812c9427"
   },
   "outputs": [
    {
     "name": "stdout",
     "output_type": "stream",
     "text": [
      "AR: 0, MA: 0\n",
      "AR: 0, MA: 1\n",
      "AR: 0, MA: 2\n",
      "AR: 0, MA: 3\n",
      "AR: 0, MA: 4\n",
      "AR: 0, MA: 5\n",
      "AR: 0, MA: 6\n",
      "AR: 1, MA: 0\n",
      "AR: 1, MA: 1\n",
      "AR: 1, MA: 2\n",
      "AR: 1, MA: 3\n",
      "AR: 1, MA: 4\n",
      "AR: 1, MA: 5\n",
      "AR: 1, MA: 6\n",
      "AR: 2, MA: 0\n",
      "AR: 2, MA: 1\n",
      "AR: 2, MA: 2\n"
     ]
    },
    {
     "name": "stderr",
     "output_type": "stream",
     "text": [
      "C:\\Users\\2400GV\\anaconda3\\lib\\site-packages\\statsmodels\\tsa\\statespace\\sarimax.py:966: UserWarning: Non-stationary starting autoregressive parameters found. Using zeros as starting parameters.\n",
      "  warn('Non-stationary starting autoregressive parameters'\n",
      "C:\\Users\\2400GV\\anaconda3\\lib\\site-packages\\statsmodels\\tsa\\statespace\\sarimax.py:978: UserWarning: Non-invertible starting MA parameters found. Using zeros as starting parameters.\n",
      "  warn('Non-invertible starting MA parameters found.'\n"
     ]
    },
    {
     "name": "stdout",
     "output_type": "stream",
     "text": [
      "AR: 2, MA: 3\n",
      "AR: 2, MA: 4\n",
      "AR: 2, MA: 5\n",
      "AR: 2, MA: 6\n",
      "AR: 3, MA: 0\n",
      "AR: 3, MA: 1\n",
      "AR: 3, MA: 2\n",
      "AR: 3, MA: 3\n"
     ]
    },
    {
     "name": "stderr",
     "output_type": "stream",
     "text": [
      "C:\\Users\\2400GV\\anaconda3\\lib\\site-packages\\statsmodels\\base\\model.py:566: ConvergenceWarning: Maximum Likelihood optimization failed to converge. Check mle_retvals\n",
      "  warnings.warn(\"Maximum Likelihood optimization failed to \"\n"
     ]
    },
    {
     "name": "stdout",
     "output_type": "stream",
     "text": [
      "AR: 3, MA: 4\n",
      "AR: 3, MA: 5\n",
      "AR: 3, MA: 6\n"
     ]
    },
    {
     "name": "stderr",
     "output_type": "stream",
     "text": [
      "C:\\Users\\2400GV\\anaconda3\\lib\\site-packages\\statsmodels\\base\\model.py:566: ConvergenceWarning: Maximum Likelihood optimization failed to converge. Check mle_retvals\n",
      "  warnings.warn(\"Maximum Likelihood optimization failed to \"\n"
     ]
    },
    {
     "name": "stdout",
     "output_type": "stream",
     "text": [
      "AR: 4, MA: 0\n",
      "AR: 4, MA: 1\n",
      "AR: 4, MA: 2\n",
      "AR: 4, MA: 3\n"
     ]
    },
    {
     "name": "stderr",
     "output_type": "stream",
     "text": [
      "C:\\Users\\2400GV\\anaconda3\\lib\\site-packages\\statsmodels\\base\\model.py:566: ConvergenceWarning: Maximum Likelihood optimization failed to converge. Check mle_retvals\n",
      "  warnings.warn(\"Maximum Likelihood optimization failed to \"\n"
     ]
    },
    {
     "name": "stdout",
     "output_type": "stream",
     "text": [
      "AR: 4, MA: 4\n"
     ]
    },
    {
     "name": "stderr",
     "output_type": "stream",
     "text": [
      "C:\\Users\\2400GV\\anaconda3\\lib\\site-packages\\statsmodels\\base\\model.py:566: ConvergenceWarning: Maximum Likelihood optimization failed to converge. Check mle_retvals\n",
      "  warnings.warn(\"Maximum Likelihood optimization failed to \"\n"
     ]
    },
    {
     "name": "stdout",
     "output_type": "stream",
     "text": [
      "AR: 4, MA: 5\n"
     ]
    },
    {
     "name": "stderr",
     "output_type": "stream",
     "text": [
      "C:\\Users\\2400GV\\anaconda3\\lib\\site-packages\\statsmodels\\base\\model.py:566: ConvergenceWarning: Maximum Likelihood optimization failed to converge. Check mle_retvals\n",
      "  warnings.warn(\"Maximum Likelihood optimization failed to \"\n"
     ]
    },
    {
     "name": "stdout",
     "output_type": "stream",
     "text": [
      "AR: 4, MA: 6\n"
     ]
    },
    {
     "name": "stderr",
     "output_type": "stream",
     "text": [
      "C:\\Users\\2400GV\\anaconda3\\lib\\site-packages\\statsmodels\\base\\model.py:566: ConvergenceWarning: Maximum Likelihood optimization failed to converge. Check mle_retvals\n",
      "  warnings.warn(\"Maximum Likelihood optimization failed to \"\n"
     ]
    },
    {
     "name": "stdout",
     "output_type": "stream",
     "text": [
      "AR: 5, MA: 0\n",
      "AR: 5, MA: 1\n",
      "AR: 5, MA: 2\n",
      "AR: 5, MA: 3\n"
     ]
    },
    {
     "name": "stderr",
     "output_type": "stream",
     "text": [
      "C:\\Users\\2400GV\\anaconda3\\lib\\site-packages\\statsmodels\\base\\model.py:566: ConvergenceWarning: Maximum Likelihood optimization failed to converge. Check mle_retvals\n",
      "  warnings.warn(\"Maximum Likelihood optimization failed to \"\n"
     ]
    },
    {
     "name": "stdout",
     "output_type": "stream",
     "text": [
      "AR: 5, MA: 4\n"
     ]
    },
    {
     "name": "stderr",
     "output_type": "stream",
     "text": [
      "C:\\Users\\2400GV\\anaconda3\\lib\\site-packages\\statsmodels\\base\\model.py:566: ConvergenceWarning: Maximum Likelihood optimization failed to converge. Check mle_retvals\n",
      "  warnings.warn(\"Maximum Likelihood optimization failed to \"\n"
     ]
    },
    {
     "name": "stdout",
     "output_type": "stream",
     "text": [
      "AR: 5, MA: 5\n"
     ]
    },
    {
     "name": "stderr",
     "output_type": "stream",
     "text": [
      "C:\\Users\\2400GV\\anaconda3\\lib\\site-packages\\statsmodels\\base\\model.py:566: ConvergenceWarning: Maximum Likelihood optimization failed to converge. Check mle_retvals\n",
      "  warnings.warn(\"Maximum Likelihood optimization failed to \"\n"
     ]
    },
    {
     "name": "stdout",
     "output_type": "stream",
     "text": [
      "AR: 5, MA: 6\n"
     ]
    },
    {
     "name": "stderr",
     "output_type": "stream",
     "text": [
      "C:\\Users\\2400GV\\anaconda3\\lib\\site-packages\\statsmodels\\base\\model.py:566: ConvergenceWarning: Maximum Likelihood optimization failed to converge. Check mle_retvals\n",
      "  warnings.warn(\"Maximum Likelihood optimization failed to \"\n"
     ]
    },
    {
     "name": "stdout",
     "output_type": "stream",
     "text": [
      "AR: 6, MA: 0\n",
      "AR: 6, MA: 1\n",
      "AR: 6, MA: 2\n",
      "AR: 6, MA: 3\n",
      "AR: 6, MA: 4\n"
     ]
    },
    {
     "name": "stderr",
     "output_type": "stream",
     "text": [
      "C:\\Users\\2400GV\\anaconda3\\lib\\site-packages\\statsmodels\\base\\model.py:566: ConvergenceWarning: Maximum Likelihood optimization failed to converge. Check mle_retvals\n",
      "  warnings.warn(\"Maximum Likelihood optimization failed to \"\n"
     ]
    },
    {
     "name": "stdout",
     "output_type": "stream",
     "text": [
      "AR: 6, MA: 5\n"
     ]
    },
    {
     "name": "stderr",
     "output_type": "stream",
     "text": [
      "C:\\Users\\2400GV\\anaconda3\\lib\\site-packages\\statsmodels\\base\\model.py:566: ConvergenceWarning: Maximum Likelihood optimization failed to converge. Check mle_retvals\n",
      "  warnings.warn(\"Maximum Likelihood optimization failed to \"\n"
     ]
    },
    {
     "name": "stdout",
     "output_type": "stream",
     "text": [
      "AR: 6, MA: 6\n"
     ]
    },
    {
     "name": "stderr",
     "output_type": "stream",
     "text": [
      "C:\\Users\\2400GV\\anaconda3\\lib\\site-packages\\statsmodels\\base\\model.py:566: ConvergenceWarning: Maximum Likelihood optimization failed to converge. Check mle_retvals\n",
      "  warnings.warn(\"Maximum Likelihood optimization failed to \"\n"
     ]
    },
    {
     "data": {
      "text/html": [
       "<div>\n",
       "<style scoped>\n",
       "    .dataframe tbody tr th:only-of-type {\n",
       "        vertical-align: middle;\n",
       "    }\n",
       "\n",
       "    .dataframe tbody tr th {\n",
       "        vertical-align: top;\n",
       "    }\n",
       "\n",
       "    .dataframe thead th {\n",
       "        text-align: right;\n",
       "    }\n",
       "</style>\n",
       "<table border=\"1\" class=\"dataframe\">\n",
       "  <thead>\n",
       "    <tr style=\"text-align: right;\">\n",
       "      <th></th>\n",
       "      <th></th>\n",
       "      <th>AIC</th>\n",
       "      <th>BIC</th>\n",
       "    </tr>\n",
       "    <tr>\n",
       "      <th>AR</th>\n",
       "      <th>MA</th>\n",
       "      <th></th>\n",
       "      <th></th>\n",
       "    </tr>\n",
       "  </thead>\n",
       "  <tbody>\n",
       "    <tr>\n",
       "      <th rowspan=\"7\" valign=\"top\">0</th>\n",
       "      <th>0</th>\n",
       "      <td>1565.190771</td>\n",
       "      <td>1573.368861</td>\n",
       "    </tr>\n",
       "    <tr>\n",
       "      <th>1</th>\n",
       "      <td>1563.801119</td>\n",
       "      <td>1576.068254</td>\n",
       "    </tr>\n",
       "    <tr>\n",
       "      <th>2</th>\n",
       "      <td>1565.744486</td>\n",
       "      <td>1582.100665</td>\n",
       "    </tr>\n",
       "    <tr>\n",
       "      <th>3</th>\n",
       "      <td>1567.429910</td>\n",
       "      <td>1587.875135</td>\n",
       "    </tr>\n",
       "    <tr>\n",
       "      <th>4</th>\n",
       "      <td>1568.303058</td>\n",
       "      <td>1592.837327</td>\n",
       "    </tr>\n",
       "    <tr>\n",
       "      <th>5</th>\n",
       "      <td>1570.146597</td>\n",
       "      <td>1598.769911</td>\n",
       "    </tr>\n",
       "    <tr>\n",
       "      <th>6</th>\n",
       "      <td>1567.284148</td>\n",
       "      <td>1599.996507</td>\n",
       "    </tr>\n",
       "    <tr>\n",
       "      <th rowspan=\"7\" valign=\"top\">1</th>\n",
       "      <th>0</th>\n",
       "      <td>1563.768881</td>\n",
       "      <td>1576.036016</td>\n",
       "    </tr>\n",
       "    <tr>\n",
       "      <th>1</th>\n",
       "      <td>1565.768278</td>\n",
       "      <td>1582.124457</td>\n",
       "    </tr>\n",
       "    <tr>\n",
       "      <th>2</th>\n",
       "      <td>1565.146944</td>\n",
       "      <td>1585.592168</td>\n",
       "    </tr>\n",
       "    <tr>\n",
       "      <th>3</th>\n",
       "      <td>1566.512927</td>\n",
       "      <td>1591.047197</td>\n",
       "    </tr>\n",
       "    <tr>\n",
       "      <th>4</th>\n",
       "      <td>1569.520748</td>\n",
       "      <td>1598.144062</td>\n",
       "    </tr>\n",
       "    <tr>\n",
       "      <th>5</th>\n",
       "      <td>1571.359292</td>\n",
       "      <td>1604.071651</td>\n",
       "    </tr>\n",
       "    <tr>\n",
       "      <th>6</th>\n",
       "      <td>1569.236556</td>\n",
       "      <td>1606.037960</td>\n",
       "    </tr>\n",
       "    <tr>\n",
       "      <th rowspan=\"7\" valign=\"top\">2</th>\n",
       "      <th>0</th>\n",
       "      <td>1565.767825</td>\n",
       "      <td>1582.124004</td>\n",
       "    </tr>\n",
       "    <tr>\n",
       "      <th>1</th>\n",
       "      <td>1567.768865</td>\n",
       "      <td>1588.214090</td>\n",
       "    </tr>\n",
       "    <tr>\n",
       "      <th>2</th>\n",
       "      <td>1563.637115</td>\n",
       "      <td>1588.171385</td>\n",
       "    </tr>\n",
       "    <tr>\n",
       "      <th>3</th>\n",
       "      <td>1568.507798</td>\n",
       "      <td>1597.131112</td>\n",
       "    </tr>\n",
       "    <tr>\n",
       "      <th>4</th>\n",
       "      <td>1571.635730</td>\n",
       "      <td>1604.348089</td>\n",
       "    </tr>\n",
       "    <tr>\n",
       "      <th>5</th>\n",
       "      <td>1567.836862</td>\n",
       "      <td>1604.638265</td>\n",
       "    </tr>\n",
       "    <tr>\n",
       "      <th>6</th>\n",
       "      <td>1569.217815</td>\n",
       "      <td>1610.108264</td>\n",
       "    </tr>\n",
       "    <tr>\n",
       "      <th rowspan=\"7\" valign=\"top\">3</th>\n",
       "      <th>0</th>\n",
       "      <td>1567.289109</td>\n",
       "      <td>1587.734334</td>\n",
       "    </tr>\n",
       "    <tr>\n",
       "      <th>1</th>\n",
       "      <td>1566.536245</td>\n",
       "      <td>1591.070514</td>\n",
       "    </tr>\n",
       "    <tr>\n",
       "      <th>2</th>\n",
       "      <td>1568.532678</td>\n",
       "      <td>1597.155992</td>\n",
       "    </tr>\n",
       "    <tr>\n",
       "      <th>3</th>\n",
       "      <td>1567.332821</td>\n",
       "      <td>1600.045180</td>\n",
       "    </tr>\n",
       "    <tr>\n",
       "      <th>4</th>\n",
       "      <td>1566.182438</td>\n",
       "      <td>1602.983842</td>\n",
       "    </tr>\n",
       "    <tr>\n",
       "      <th>5</th>\n",
       "      <td>1567.568615</td>\n",
       "      <td>1608.459064</td>\n",
       "    </tr>\n",
       "    <tr>\n",
       "      <th>6</th>\n",
       "      <td>1568.523414</td>\n",
       "      <td>1613.502908</td>\n",
       "    </tr>\n",
       "    <tr>\n",
       "      <th rowspan=\"7\" valign=\"top\">4</th>\n",
       "      <th>0</th>\n",
       "      <td>1568.346662</td>\n",
       "      <td>1592.880932</td>\n",
       "    </tr>\n",
       "    <tr>\n",
       "      <th>1</th>\n",
       "      <td>1569.624825</td>\n",
       "      <td>1598.248139</td>\n",
       "    </tr>\n",
       "    <tr>\n",
       "      <th>2</th>\n",
       "      <td>1570.189912</td>\n",
       "      <td>1602.902271</td>\n",
       "    </tr>\n",
       "    <tr>\n",
       "      <th>3</th>\n",
       "      <td>1566.704556</td>\n",
       "      <td>1603.505959</td>\n",
       "    </tr>\n",
       "    <tr>\n",
       "      <th>4</th>\n",
       "      <td>1567.335028</td>\n",
       "      <td>1608.225477</td>\n",
       "    </tr>\n",
       "    <tr>\n",
       "      <th>5</th>\n",
       "      <td>1569.297887</td>\n",
       "      <td>1614.277381</td>\n",
       "    </tr>\n",
       "    <tr>\n",
       "      <th>6</th>\n",
       "      <td>1565.613081</td>\n",
       "      <td>1614.681619</td>\n",
       "    </tr>\n",
       "    <tr>\n",
       "      <th rowspan=\"7\" valign=\"top\">5</th>\n",
       "      <th>0</th>\n",
       "      <td>1570.322244</td>\n",
       "      <td>1598.945558</td>\n",
       "    </tr>\n",
       "    <tr>\n",
       "      <th>1</th>\n",
       "      <td>1571.565910</td>\n",
       "      <td>1604.278269</td>\n",
       "    </tr>\n",
       "    <tr>\n",
       "      <th>2</th>\n",
       "      <td>1571.469857</td>\n",
       "      <td>1608.271260</td>\n",
       "    </tr>\n",
       "    <tr>\n",
       "      <th>3</th>\n",
       "      <td>1568.133673</td>\n",
       "      <td>1609.024122</td>\n",
       "    </tr>\n",
       "    <tr>\n",
       "      <th>4</th>\n",
       "      <td>1569.236842</td>\n",
       "      <td>1614.216335</td>\n",
       "    </tr>\n",
       "    <tr>\n",
       "      <th>5</th>\n",
       "      <td>1568.773506</td>\n",
       "      <td>1617.842044</td>\n",
       "    </tr>\n",
       "    <tr>\n",
       "      <th>6</th>\n",
       "      <td>1568.612645</td>\n",
       "      <td>1621.770229</td>\n",
       "    </tr>\n",
       "    <tr>\n",
       "      <th rowspan=\"7\" valign=\"top\">6</th>\n",
       "      <th>0</th>\n",
       "      <td>1567.778987</td>\n",
       "      <td>1600.491346</td>\n",
       "    </tr>\n",
       "    <tr>\n",
       "      <th>1</th>\n",
       "      <td>1569.757675</td>\n",
       "      <td>1606.559079</td>\n",
       "    </tr>\n",
       "    <tr>\n",
       "      <th>2</th>\n",
       "      <td>1568.250067</td>\n",
       "      <td>1609.140516</td>\n",
       "    </tr>\n",
       "    <tr>\n",
       "      <th>3</th>\n",
       "      <td>1569.201201</td>\n",
       "      <td>1614.180695</td>\n",
       "    </tr>\n",
       "    <tr>\n",
       "      <th>4</th>\n",
       "      <td>1570.681286</td>\n",
       "      <td>1619.749824</td>\n",
       "    </tr>\n",
       "    <tr>\n",
       "      <th>5</th>\n",
       "      <td>1566.932551</td>\n",
       "      <td>1620.090134</td>\n",
       "    </tr>\n",
       "    <tr>\n",
       "      <th>6</th>\n",
       "      <td>1569.871461</td>\n",
       "      <td>1627.118089</td>\n",
       "    </tr>\n",
       "  </tbody>\n",
       "</table>\n",
       "</div>"
      ],
      "text/plain": [
       "               AIC          BIC\n",
       "AR MA                          \n",
       "0  0   1565.190771  1573.368861\n",
       "   1   1563.801119  1576.068254\n",
       "   2   1565.744486  1582.100665\n",
       "   3   1567.429910  1587.875135\n",
       "   4   1568.303058  1592.837327\n",
       "   5   1570.146597  1598.769911\n",
       "   6   1567.284148  1599.996507\n",
       "1  0   1563.768881  1576.036016\n",
       "   1   1565.768278  1582.124457\n",
       "   2   1565.146944  1585.592168\n",
       "   3   1566.512927  1591.047197\n",
       "   4   1569.520748  1598.144062\n",
       "   5   1571.359292  1604.071651\n",
       "   6   1569.236556  1606.037960\n",
       "2  0   1565.767825  1582.124004\n",
       "   1   1567.768865  1588.214090\n",
       "   2   1563.637115  1588.171385\n",
       "   3   1568.507798  1597.131112\n",
       "   4   1571.635730  1604.348089\n",
       "   5   1567.836862  1604.638265\n",
       "   6   1569.217815  1610.108264\n",
       "3  0   1567.289109  1587.734334\n",
       "   1   1566.536245  1591.070514\n",
       "   2   1568.532678  1597.155992\n",
       "   3   1567.332821  1600.045180\n",
       "   4   1566.182438  1602.983842\n",
       "   5   1567.568615  1608.459064\n",
       "   6   1568.523414  1613.502908\n",
       "4  0   1568.346662  1592.880932\n",
       "   1   1569.624825  1598.248139\n",
       "   2   1570.189912  1602.902271\n",
       "   3   1566.704556  1603.505959\n",
       "   4   1567.335028  1608.225477\n",
       "   5   1569.297887  1614.277381\n",
       "   6   1565.613081  1614.681619\n",
       "5  0   1570.322244  1598.945558\n",
       "   1   1571.565910  1604.278269\n",
       "   2   1571.469857  1608.271260\n",
       "   3   1568.133673  1609.024122\n",
       "   4   1569.236842  1614.216335\n",
       "   5   1568.773506  1617.842044\n",
       "   6   1568.612645  1621.770229\n",
       "6  0   1567.778987  1600.491346\n",
       "   1   1569.757675  1606.559079\n",
       "   2   1568.250067  1609.140516\n",
       "   3   1569.201201  1614.180695\n",
       "   4   1570.681286  1619.749824\n",
       "   5   1566.932551  1620.090134\n",
       "   6   1569.871461  1627.118089"
      ]
     },
     "execution_count": 45,
     "metadata": {},
     "output_type": "execute_result"
    }
   ],
   "source": [
    "ic = {}\n",
    "for ar in range(7):\n",
    "    for ma in range(7):\n",
    "        print(f\"AR: {ar}, MA: {ma}\")\n",
    "        modelo = ARIMA(pep_diff, order=(ar, 0, ma))\n",
    "        resultado = modelo.fit()\n",
    "        ic[(ar, ma)] = [resultado.aic, resultado.bic]\n",
    "\n",
    "ic = pd.DataFrame(ic, index=[\"AIC\", \"BIC\"]).T\n",
    "ic.index = ic.index.set_names([\"AR\", \"MA\"])\n",
    "ic"
   ]
  },
  {
   "cell_type": "markdown",
   "id": "1ec39e4c-376d-43d5-8525-4e93f8d62266",
   "metadata": {
    "id": "1ec39e4c-376d-43d5-8525-4e93f8d62266"
   },
   "source": [
    "los ordenamos de acuerdo al BIC que es el indicador que voy a utilizar"
   ]
  },
  {
   "cell_type": "code",
   "execution_count": 50,
   "id": "0b8ca96a-dab0-416f-9055-afb5b523b150",
   "metadata": {
    "colab": {
     "base_uri": "https://localhost:8080/",
     "height": 1000
    },
    "id": "0b8ca96a-dab0-416f-9055-afb5b523b150",
    "outputId": "233a11d9-8907-4cb1-e864-1a36e6fcdf06",
    "scrolled": true
   },
   "outputs": [
    {
     "data": {
      "text/html": [
       "<div>\n",
       "<style scoped>\n",
       "    .dataframe tbody tr th:only-of-type {\n",
       "        vertical-align: middle;\n",
       "    }\n",
       "\n",
       "    .dataframe tbody tr th {\n",
       "        vertical-align: top;\n",
       "    }\n",
       "\n",
       "    .dataframe thead th {\n",
       "        text-align: right;\n",
       "    }\n",
       "</style>\n",
       "<table border=\"1\" class=\"dataframe\">\n",
       "  <thead>\n",
       "    <tr style=\"text-align: right;\">\n",
       "      <th></th>\n",
       "      <th></th>\n",
       "      <th>AIC</th>\n",
       "      <th>BIC</th>\n",
       "    </tr>\n",
       "    <tr>\n",
       "      <th>AR</th>\n",
       "      <th>MA</th>\n",
       "      <th></th>\n",
       "      <th></th>\n",
       "    </tr>\n",
       "  </thead>\n",
       "  <tbody>\n",
       "    <tr>\n",
       "      <th>0</th>\n",
       "      <th>0</th>\n",
       "      <td>1565.190771</td>\n",
       "      <td>1573.368861</td>\n",
       "    </tr>\n",
       "    <tr>\n",
       "      <th>1</th>\n",
       "      <th>0</th>\n",
       "      <td>1563.768881</td>\n",
       "      <td>1576.036016</td>\n",
       "    </tr>\n",
       "    <tr>\n",
       "      <th rowspan=\"2\" valign=\"top\">0</th>\n",
       "      <th>1</th>\n",
       "      <td>1563.801119</td>\n",
       "      <td>1576.068254</td>\n",
       "    </tr>\n",
       "    <tr>\n",
       "      <th>2</th>\n",
       "      <td>1565.744486</td>\n",
       "      <td>1582.100665</td>\n",
       "    </tr>\n",
       "    <tr>\n",
       "      <th>2</th>\n",
       "      <th>0</th>\n",
       "      <td>1565.767825</td>\n",
       "      <td>1582.124004</td>\n",
       "    </tr>\n",
       "    <tr>\n",
       "      <th rowspan=\"2\" valign=\"top\">1</th>\n",
       "      <th>1</th>\n",
       "      <td>1565.768278</td>\n",
       "      <td>1582.124457</td>\n",
       "    </tr>\n",
       "    <tr>\n",
       "      <th>2</th>\n",
       "      <td>1565.146944</td>\n",
       "      <td>1585.592168</td>\n",
       "    </tr>\n",
       "    <tr>\n",
       "      <th>3</th>\n",
       "      <th>0</th>\n",
       "      <td>1567.289109</td>\n",
       "      <td>1587.734334</td>\n",
       "    </tr>\n",
       "    <tr>\n",
       "      <th>0</th>\n",
       "      <th>3</th>\n",
       "      <td>1567.429910</td>\n",
       "      <td>1587.875135</td>\n",
       "    </tr>\n",
       "    <tr>\n",
       "      <th rowspan=\"2\" valign=\"top\">2</th>\n",
       "      <th>2</th>\n",
       "      <td>1563.637115</td>\n",
       "      <td>1588.171385</td>\n",
       "    </tr>\n",
       "    <tr>\n",
       "      <th>1</th>\n",
       "      <td>1567.768865</td>\n",
       "      <td>1588.214090</td>\n",
       "    </tr>\n",
       "    <tr>\n",
       "      <th>1</th>\n",
       "      <th>3</th>\n",
       "      <td>1566.512927</td>\n",
       "      <td>1591.047197</td>\n",
       "    </tr>\n",
       "    <tr>\n",
       "      <th>3</th>\n",
       "      <th>1</th>\n",
       "      <td>1566.536245</td>\n",
       "      <td>1591.070514</td>\n",
       "    </tr>\n",
       "    <tr>\n",
       "      <th>0</th>\n",
       "      <th>4</th>\n",
       "      <td>1568.303058</td>\n",
       "      <td>1592.837327</td>\n",
       "    </tr>\n",
       "    <tr>\n",
       "      <th>4</th>\n",
       "      <th>0</th>\n",
       "      <td>1568.346662</td>\n",
       "      <td>1592.880932</td>\n",
       "    </tr>\n",
       "    <tr>\n",
       "      <th>2</th>\n",
       "      <th>3</th>\n",
       "      <td>1568.507798</td>\n",
       "      <td>1597.131112</td>\n",
       "    </tr>\n",
       "    <tr>\n",
       "      <th>3</th>\n",
       "      <th>2</th>\n",
       "      <td>1568.532678</td>\n",
       "      <td>1597.155992</td>\n",
       "    </tr>\n",
       "    <tr>\n",
       "      <th>1</th>\n",
       "      <th>4</th>\n",
       "      <td>1569.520748</td>\n",
       "      <td>1598.144062</td>\n",
       "    </tr>\n",
       "    <tr>\n",
       "      <th>4</th>\n",
       "      <th>1</th>\n",
       "      <td>1569.624825</td>\n",
       "      <td>1598.248139</td>\n",
       "    </tr>\n",
       "    <tr>\n",
       "      <th>0</th>\n",
       "      <th>5</th>\n",
       "      <td>1570.146597</td>\n",
       "      <td>1598.769911</td>\n",
       "    </tr>\n",
       "    <tr>\n",
       "      <th>5</th>\n",
       "      <th>0</th>\n",
       "      <td>1570.322244</td>\n",
       "      <td>1598.945558</td>\n",
       "    </tr>\n",
       "    <tr>\n",
       "      <th>0</th>\n",
       "      <th>6</th>\n",
       "      <td>1567.284148</td>\n",
       "      <td>1599.996507</td>\n",
       "    </tr>\n",
       "    <tr>\n",
       "      <th>3</th>\n",
       "      <th>3</th>\n",
       "      <td>1567.332821</td>\n",
       "      <td>1600.045180</td>\n",
       "    </tr>\n",
       "    <tr>\n",
       "      <th>6</th>\n",
       "      <th>0</th>\n",
       "      <td>1567.778987</td>\n",
       "      <td>1600.491346</td>\n",
       "    </tr>\n",
       "    <tr>\n",
       "      <th>4</th>\n",
       "      <th>2</th>\n",
       "      <td>1570.189912</td>\n",
       "      <td>1602.902271</td>\n",
       "    </tr>\n",
       "    <tr>\n",
       "      <th>3</th>\n",
       "      <th>4</th>\n",
       "      <td>1566.182438</td>\n",
       "      <td>1602.983842</td>\n",
       "    </tr>\n",
       "    <tr>\n",
       "      <th>4</th>\n",
       "      <th>3</th>\n",
       "      <td>1566.704556</td>\n",
       "      <td>1603.505959</td>\n",
       "    </tr>\n",
       "    <tr>\n",
       "      <th>1</th>\n",
       "      <th>5</th>\n",
       "      <td>1571.359292</td>\n",
       "      <td>1604.071651</td>\n",
       "    </tr>\n",
       "    <tr>\n",
       "      <th>5</th>\n",
       "      <th>1</th>\n",
       "      <td>1571.565910</td>\n",
       "      <td>1604.278269</td>\n",
       "    </tr>\n",
       "    <tr>\n",
       "      <th rowspan=\"2\" valign=\"top\">2</th>\n",
       "      <th>4</th>\n",
       "      <td>1571.635730</td>\n",
       "      <td>1604.348089</td>\n",
       "    </tr>\n",
       "    <tr>\n",
       "      <th>5</th>\n",
       "      <td>1567.836862</td>\n",
       "      <td>1604.638265</td>\n",
       "    </tr>\n",
       "    <tr>\n",
       "      <th>1</th>\n",
       "      <th>6</th>\n",
       "      <td>1569.236556</td>\n",
       "      <td>1606.037960</td>\n",
       "    </tr>\n",
       "    <tr>\n",
       "      <th>6</th>\n",
       "      <th>1</th>\n",
       "      <td>1569.757675</td>\n",
       "      <td>1606.559079</td>\n",
       "    </tr>\n",
       "    <tr>\n",
       "      <th>4</th>\n",
       "      <th>4</th>\n",
       "      <td>1567.335028</td>\n",
       "      <td>1608.225477</td>\n",
       "    </tr>\n",
       "    <tr>\n",
       "      <th>5</th>\n",
       "      <th>2</th>\n",
       "      <td>1571.469857</td>\n",
       "      <td>1608.271260</td>\n",
       "    </tr>\n",
       "    <tr>\n",
       "      <th>3</th>\n",
       "      <th>5</th>\n",
       "      <td>1567.568615</td>\n",
       "      <td>1608.459064</td>\n",
       "    </tr>\n",
       "    <tr>\n",
       "      <th>5</th>\n",
       "      <th>3</th>\n",
       "      <td>1568.133673</td>\n",
       "      <td>1609.024122</td>\n",
       "    </tr>\n",
       "    <tr>\n",
       "      <th>6</th>\n",
       "      <th>2</th>\n",
       "      <td>1568.250067</td>\n",
       "      <td>1609.140516</td>\n",
       "    </tr>\n",
       "    <tr>\n",
       "      <th>2</th>\n",
       "      <th>6</th>\n",
       "      <td>1569.217815</td>\n",
       "      <td>1610.108264</td>\n",
       "    </tr>\n",
       "    <tr>\n",
       "      <th>3</th>\n",
       "      <th>6</th>\n",
       "      <td>1568.523414</td>\n",
       "      <td>1613.502908</td>\n",
       "    </tr>\n",
       "    <tr>\n",
       "      <th>6</th>\n",
       "      <th>3</th>\n",
       "      <td>1569.201201</td>\n",
       "      <td>1614.180695</td>\n",
       "    </tr>\n",
       "    <tr>\n",
       "      <th>5</th>\n",
       "      <th>4</th>\n",
       "      <td>1569.236842</td>\n",
       "      <td>1614.216335</td>\n",
       "    </tr>\n",
       "    <tr>\n",
       "      <th rowspan=\"2\" valign=\"top\">4</th>\n",
       "      <th>5</th>\n",
       "      <td>1569.297887</td>\n",
       "      <td>1614.277381</td>\n",
       "    </tr>\n",
       "    <tr>\n",
       "      <th>6</th>\n",
       "      <td>1565.613081</td>\n",
       "      <td>1614.681619</td>\n",
       "    </tr>\n",
       "    <tr>\n",
       "      <th>5</th>\n",
       "      <th>5</th>\n",
       "      <td>1568.773506</td>\n",
       "      <td>1617.842044</td>\n",
       "    </tr>\n",
       "    <tr>\n",
       "      <th rowspan=\"2\" valign=\"top\">6</th>\n",
       "      <th>4</th>\n",
       "      <td>1570.681286</td>\n",
       "      <td>1619.749824</td>\n",
       "    </tr>\n",
       "    <tr>\n",
       "      <th>5</th>\n",
       "      <td>1566.932551</td>\n",
       "      <td>1620.090134</td>\n",
       "    </tr>\n",
       "    <tr>\n",
       "      <th>5</th>\n",
       "      <th>6</th>\n",
       "      <td>1568.612645</td>\n",
       "      <td>1621.770229</td>\n",
       "    </tr>\n",
       "    <tr>\n",
       "      <th>6</th>\n",
       "      <th>6</th>\n",
       "      <td>1569.871461</td>\n",
       "      <td>1627.118089</td>\n",
       "    </tr>\n",
       "  </tbody>\n",
       "</table>\n",
       "</div>"
      ],
      "text/plain": [
       "               AIC          BIC\n",
       "AR MA                          \n",
       "0  0   1565.190771  1573.368861\n",
       "1  0   1563.768881  1576.036016\n",
       "0  1   1563.801119  1576.068254\n",
       "   2   1565.744486  1582.100665\n",
       "2  0   1565.767825  1582.124004\n",
       "1  1   1565.768278  1582.124457\n",
       "   2   1565.146944  1585.592168\n",
       "3  0   1567.289109  1587.734334\n",
       "0  3   1567.429910  1587.875135\n",
       "2  2   1563.637115  1588.171385\n",
       "   1   1567.768865  1588.214090\n",
       "1  3   1566.512927  1591.047197\n",
       "3  1   1566.536245  1591.070514\n",
       "0  4   1568.303058  1592.837327\n",
       "4  0   1568.346662  1592.880932\n",
       "2  3   1568.507798  1597.131112\n",
       "3  2   1568.532678  1597.155992\n",
       "1  4   1569.520748  1598.144062\n",
       "4  1   1569.624825  1598.248139\n",
       "0  5   1570.146597  1598.769911\n",
       "5  0   1570.322244  1598.945558\n",
       "0  6   1567.284148  1599.996507\n",
       "3  3   1567.332821  1600.045180\n",
       "6  0   1567.778987  1600.491346\n",
       "4  2   1570.189912  1602.902271\n",
       "3  4   1566.182438  1602.983842\n",
       "4  3   1566.704556  1603.505959\n",
       "1  5   1571.359292  1604.071651\n",
       "5  1   1571.565910  1604.278269\n",
       "2  4   1571.635730  1604.348089\n",
       "   5   1567.836862  1604.638265\n",
       "1  6   1569.236556  1606.037960\n",
       "6  1   1569.757675  1606.559079\n",
       "4  4   1567.335028  1608.225477\n",
       "5  2   1571.469857  1608.271260\n",
       "3  5   1567.568615  1608.459064\n",
       "5  3   1568.133673  1609.024122\n",
       "6  2   1568.250067  1609.140516\n",
       "2  6   1569.217815  1610.108264\n",
       "3  6   1568.523414  1613.502908\n",
       "6  3   1569.201201  1614.180695\n",
       "5  4   1569.236842  1614.216335\n",
       "4  5   1569.297887  1614.277381\n",
       "   6   1565.613081  1614.681619\n",
       "5  5   1568.773506  1617.842044\n",
       "6  4   1570.681286  1619.749824\n",
       "   5   1566.932551  1620.090134\n",
       "5  6   1568.612645  1621.770229\n",
       "6  6   1569.871461  1627.118089"
      ]
     },
     "execution_count": 50,
     "metadata": {},
     "output_type": "execute_result"
    }
   ],
   "source": [
    "ic.sort_values('BIC', ascending = True)"
   ]
  },
  {
   "cell_type": "markdown",
   "id": "bb12aaac-f73b-4254-a313-1afc329e7a55",
   "metadata": {
    "id": "bb12aaac-f73b-4254-a313-1afc329e7a55"
   },
   "source": [
    "el BIC me sugiere un ARMA(0,0)"
   ]
  },
  {
   "cell_type": "markdown",
   "id": "5c37f51f-da0a-49ba-bcee-c7a56c701909",
   "metadata": {
    "id": "5c37f51f-da0a-49ba-bcee-c7a56c701909"
   },
   "source": [
    "veamos que me sugiere el criterio de Akaike (AIC)"
   ]
  },
  {
   "cell_type": "code",
   "execution_count": 51,
   "id": "3dba8951-2c69-48e2-9862-92b633647e10",
   "metadata": {
    "colab": {
     "base_uri": "https://localhost:8080/",
     "height": 1000
    },
    "id": "3dba8951-2c69-48e2-9862-92b633647e10",
    "outputId": "31d5954e-b5e0-412d-89a1-91c9ededaff3"
   },
   "outputs": [
    {
     "data": {
      "text/html": [
       "<div>\n",
       "<style scoped>\n",
       "    .dataframe tbody tr th:only-of-type {\n",
       "        vertical-align: middle;\n",
       "    }\n",
       "\n",
       "    .dataframe tbody tr th {\n",
       "        vertical-align: top;\n",
       "    }\n",
       "\n",
       "    .dataframe thead th {\n",
       "        text-align: right;\n",
       "    }\n",
       "</style>\n",
       "<table border=\"1\" class=\"dataframe\">\n",
       "  <thead>\n",
       "    <tr style=\"text-align: right;\">\n",
       "      <th></th>\n",
       "      <th></th>\n",
       "      <th>AIC</th>\n",
       "      <th>BIC</th>\n",
       "    </tr>\n",
       "    <tr>\n",
       "      <th>AR</th>\n",
       "      <th>MA</th>\n",
       "      <th></th>\n",
       "      <th></th>\n",
       "    </tr>\n",
       "  </thead>\n",
       "  <tbody>\n",
       "    <tr>\n",
       "      <th>2</th>\n",
       "      <th>2</th>\n",
       "      <td>1563.637115</td>\n",
       "      <td>1588.171385</td>\n",
       "    </tr>\n",
       "    <tr>\n",
       "      <th>1</th>\n",
       "      <th>0</th>\n",
       "      <td>1563.768881</td>\n",
       "      <td>1576.036016</td>\n",
       "    </tr>\n",
       "    <tr>\n",
       "      <th>0</th>\n",
       "      <th>1</th>\n",
       "      <td>1563.801119</td>\n",
       "      <td>1576.068254</td>\n",
       "    </tr>\n",
       "    <tr>\n",
       "      <th>1</th>\n",
       "      <th>2</th>\n",
       "      <td>1565.146944</td>\n",
       "      <td>1585.592168</td>\n",
       "    </tr>\n",
       "    <tr>\n",
       "      <th>0</th>\n",
       "      <th>0</th>\n",
       "      <td>1565.190771</td>\n",
       "      <td>1573.368861</td>\n",
       "    </tr>\n",
       "    <tr>\n",
       "      <th>4</th>\n",
       "      <th>6</th>\n",
       "      <td>1565.613081</td>\n",
       "      <td>1614.681619</td>\n",
       "    </tr>\n",
       "    <tr>\n",
       "      <th>0</th>\n",
       "      <th>2</th>\n",
       "      <td>1565.744486</td>\n",
       "      <td>1582.100665</td>\n",
       "    </tr>\n",
       "    <tr>\n",
       "      <th>2</th>\n",
       "      <th>0</th>\n",
       "      <td>1565.767825</td>\n",
       "      <td>1582.124004</td>\n",
       "    </tr>\n",
       "    <tr>\n",
       "      <th>1</th>\n",
       "      <th>1</th>\n",
       "      <td>1565.768278</td>\n",
       "      <td>1582.124457</td>\n",
       "    </tr>\n",
       "    <tr>\n",
       "      <th>3</th>\n",
       "      <th>4</th>\n",
       "      <td>1566.182438</td>\n",
       "      <td>1602.983842</td>\n",
       "    </tr>\n",
       "    <tr>\n",
       "      <th>1</th>\n",
       "      <th>3</th>\n",
       "      <td>1566.512927</td>\n",
       "      <td>1591.047197</td>\n",
       "    </tr>\n",
       "    <tr>\n",
       "      <th>3</th>\n",
       "      <th>1</th>\n",
       "      <td>1566.536245</td>\n",
       "      <td>1591.070514</td>\n",
       "    </tr>\n",
       "    <tr>\n",
       "      <th>4</th>\n",
       "      <th>3</th>\n",
       "      <td>1566.704556</td>\n",
       "      <td>1603.505959</td>\n",
       "    </tr>\n",
       "    <tr>\n",
       "      <th>6</th>\n",
       "      <th>5</th>\n",
       "      <td>1566.932551</td>\n",
       "      <td>1620.090134</td>\n",
       "    </tr>\n",
       "    <tr>\n",
       "      <th>0</th>\n",
       "      <th>6</th>\n",
       "      <td>1567.284148</td>\n",
       "      <td>1599.996507</td>\n",
       "    </tr>\n",
       "    <tr>\n",
       "      <th rowspan=\"2\" valign=\"top\">3</th>\n",
       "      <th>0</th>\n",
       "      <td>1567.289109</td>\n",
       "      <td>1587.734334</td>\n",
       "    </tr>\n",
       "    <tr>\n",
       "      <th>3</th>\n",
       "      <td>1567.332821</td>\n",
       "      <td>1600.045180</td>\n",
       "    </tr>\n",
       "    <tr>\n",
       "      <th>4</th>\n",
       "      <th>4</th>\n",
       "      <td>1567.335028</td>\n",
       "      <td>1608.225477</td>\n",
       "    </tr>\n",
       "    <tr>\n",
       "      <th>0</th>\n",
       "      <th>3</th>\n",
       "      <td>1567.429910</td>\n",
       "      <td>1587.875135</td>\n",
       "    </tr>\n",
       "    <tr>\n",
       "      <th>3</th>\n",
       "      <th>5</th>\n",
       "      <td>1567.568615</td>\n",
       "      <td>1608.459064</td>\n",
       "    </tr>\n",
       "    <tr>\n",
       "      <th>2</th>\n",
       "      <th>1</th>\n",
       "      <td>1567.768865</td>\n",
       "      <td>1588.214090</td>\n",
       "    </tr>\n",
       "    <tr>\n",
       "      <th>6</th>\n",
       "      <th>0</th>\n",
       "      <td>1567.778987</td>\n",
       "      <td>1600.491346</td>\n",
       "    </tr>\n",
       "    <tr>\n",
       "      <th>2</th>\n",
       "      <th>5</th>\n",
       "      <td>1567.836862</td>\n",
       "      <td>1604.638265</td>\n",
       "    </tr>\n",
       "    <tr>\n",
       "      <th>5</th>\n",
       "      <th>3</th>\n",
       "      <td>1568.133673</td>\n",
       "      <td>1609.024122</td>\n",
       "    </tr>\n",
       "    <tr>\n",
       "      <th>6</th>\n",
       "      <th>2</th>\n",
       "      <td>1568.250067</td>\n",
       "      <td>1609.140516</td>\n",
       "    </tr>\n",
       "    <tr>\n",
       "      <th>0</th>\n",
       "      <th>4</th>\n",
       "      <td>1568.303058</td>\n",
       "      <td>1592.837327</td>\n",
       "    </tr>\n",
       "    <tr>\n",
       "      <th>4</th>\n",
       "      <th>0</th>\n",
       "      <td>1568.346662</td>\n",
       "      <td>1592.880932</td>\n",
       "    </tr>\n",
       "    <tr>\n",
       "      <th>2</th>\n",
       "      <th>3</th>\n",
       "      <td>1568.507798</td>\n",
       "      <td>1597.131112</td>\n",
       "    </tr>\n",
       "    <tr>\n",
       "      <th rowspan=\"2\" valign=\"top\">3</th>\n",
       "      <th>6</th>\n",
       "      <td>1568.523414</td>\n",
       "      <td>1613.502908</td>\n",
       "    </tr>\n",
       "    <tr>\n",
       "      <th>2</th>\n",
       "      <td>1568.532678</td>\n",
       "      <td>1597.155992</td>\n",
       "    </tr>\n",
       "    <tr>\n",
       "      <th rowspan=\"2\" valign=\"top\">5</th>\n",
       "      <th>6</th>\n",
       "      <td>1568.612645</td>\n",
       "      <td>1621.770229</td>\n",
       "    </tr>\n",
       "    <tr>\n",
       "      <th>5</th>\n",
       "      <td>1568.773506</td>\n",
       "      <td>1617.842044</td>\n",
       "    </tr>\n",
       "    <tr>\n",
       "      <th>6</th>\n",
       "      <th>3</th>\n",
       "      <td>1569.201201</td>\n",
       "      <td>1614.180695</td>\n",
       "    </tr>\n",
       "    <tr>\n",
       "      <th>2</th>\n",
       "      <th>6</th>\n",
       "      <td>1569.217815</td>\n",
       "      <td>1610.108264</td>\n",
       "    </tr>\n",
       "    <tr>\n",
       "      <th>1</th>\n",
       "      <th>6</th>\n",
       "      <td>1569.236556</td>\n",
       "      <td>1606.037960</td>\n",
       "    </tr>\n",
       "    <tr>\n",
       "      <th>5</th>\n",
       "      <th>4</th>\n",
       "      <td>1569.236842</td>\n",
       "      <td>1614.216335</td>\n",
       "    </tr>\n",
       "    <tr>\n",
       "      <th>4</th>\n",
       "      <th>5</th>\n",
       "      <td>1569.297887</td>\n",
       "      <td>1614.277381</td>\n",
       "    </tr>\n",
       "    <tr>\n",
       "      <th>1</th>\n",
       "      <th>4</th>\n",
       "      <td>1569.520748</td>\n",
       "      <td>1598.144062</td>\n",
       "    </tr>\n",
       "    <tr>\n",
       "      <th>4</th>\n",
       "      <th>1</th>\n",
       "      <td>1569.624825</td>\n",
       "      <td>1598.248139</td>\n",
       "    </tr>\n",
       "    <tr>\n",
       "      <th rowspan=\"2\" valign=\"top\">6</th>\n",
       "      <th>1</th>\n",
       "      <td>1569.757675</td>\n",
       "      <td>1606.559079</td>\n",
       "    </tr>\n",
       "    <tr>\n",
       "      <th>6</th>\n",
       "      <td>1569.871461</td>\n",
       "      <td>1627.118089</td>\n",
       "    </tr>\n",
       "    <tr>\n",
       "      <th>0</th>\n",
       "      <th>5</th>\n",
       "      <td>1570.146597</td>\n",
       "      <td>1598.769911</td>\n",
       "    </tr>\n",
       "    <tr>\n",
       "      <th>4</th>\n",
       "      <th>2</th>\n",
       "      <td>1570.189912</td>\n",
       "      <td>1602.902271</td>\n",
       "    </tr>\n",
       "    <tr>\n",
       "      <th>5</th>\n",
       "      <th>0</th>\n",
       "      <td>1570.322244</td>\n",
       "      <td>1598.945558</td>\n",
       "    </tr>\n",
       "    <tr>\n",
       "      <th>6</th>\n",
       "      <th>4</th>\n",
       "      <td>1570.681286</td>\n",
       "      <td>1619.749824</td>\n",
       "    </tr>\n",
       "    <tr>\n",
       "      <th>1</th>\n",
       "      <th>5</th>\n",
       "      <td>1571.359292</td>\n",
       "      <td>1604.071651</td>\n",
       "    </tr>\n",
       "    <tr>\n",
       "      <th rowspan=\"2\" valign=\"top\">5</th>\n",
       "      <th>2</th>\n",
       "      <td>1571.469857</td>\n",
       "      <td>1608.271260</td>\n",
       "    </tr>\n",
       "    <tr>\n",
       "      <th>1</th>\n",
       "      <td>1571.565910</td>\n",
       "      <td>1604.278269</td>\n",
       "    </tr>\n",
       "    <tr>\n",
       "      <th>2</th>\n",
       "      <th>4</th>\n",
       "      <td>1571.635730</td>\n",
       "      <td>1604.348089</td>\n",
       "    </tr>\n",
       "  </tbody>\n",
       "</table>\n",
       "</div>"
      ],
      "text/plain": [
       "               AIC          BIC\n",
       "AR MA                          \n",
       "2  2   1563.637115  1588.171385\n",
       "1  0   1563.768881  1576.036016\n",
       "0  1   1563.801119  1576.068254\n",
       "1  2   1565.146944  1585.592168\n",
       "0  0   1565.190771  1573.368861\n",
       "4  6   1565.613081  1614.681619\n",
       "0  2   1565.744486  1582.100665\n",
       "2  0   1565.767825  1582.124004\n",
       "1  1   1565.768278  1582.124457\n",
       "3  4   1566.182438  1602.983842\n",
       "1  3   1566.512927  1591.047197\n",
       "3  1   1566.536245  1591.070514\n",
       "4  3   1566.704556  1603.505959\n",
       "6  5   1566.932551  1620.090134\n",
       "0  6   1567.284148  1599.996507\n",
       "3  0   1567.289109  1587.734334\n",
       "   3   1567.332821  1600.045180\n",
       "4  4   1567.335028  1608.225477\n",
       "0  3   1567.429910  1587.875135\n",
       "3  5   1567.568615  1608.459064\n",
       "2  1   1567.768865  1588.214090\n",
       "6  0   1567.778987  1600.491346\n",
       "2  5   1567.836862  1604.638265\n",
       "5  3   1568.133673  1609.024122\n",
       "6  2   1568.250067  1609.140516\n",
       "0  4   1568.303058  1592.837327\n",
       "4  0   1568.346662  1592.880932\n",
       "2  3   1568.507798  1597.131112\n",
       "3  6   1568.523414  1613.502908\n",
       "   2   1568.532678  1597.155992\n",
       "5  6   1568.612645  1621.770229\n",
       "   5   1568.773506  1617.842044\n",
       "6  3   1569.201201  1614.180695\n",
       "2  6   1569.217815  1610.108264\n",
       "1  6   1569.236556  1606.037960\n",
       "5  4   1569.236842  1614.216335\n",
       "4  5   1569.297887  1614.277381\n",
       "1  4   1569.520748  1598.144062\n",
       "4  1   1569.624825  1598.248139\n",
       "6  1   1569.757675  1606.559079\n",
       "   6   1569.871461  1627.118089\n",
       "0  5   1570.146597  1598.769911\n",
       "4  2   1570.189912  1602.902271\n",
       "5  0   1570.322244  1598.945558\n",
       "6  4   1570.681286  1619.749824\n",
       "1  5   1571.359292  1604.071651\n",
       "5  2   1571.469857  1608.271260\n",
       "   1   1571.565910  1604.278269\n",
       "2  4   1571.635730  1604.348089"
      ]
     },
     "execution_count": 51,
     "metadata": {},
     "output_type": "execute_result"
    }
   ],
   "source": [
    "ic.sort_values('AIC', ascending = True)"
   ]
  },
  {
   "cell_type": "markdown",
   "id": "cdee3b44-7825-4ba8-beac-781f13b335b8",
   "metadata": {
    "id": "cdee3b44-7825-4ba8-beac-781f13b335b8"
   },
   "source": [
    "criterio de AIC tambien me sugiere ARMA (2,2)"
   ]
  },
  {
   "cell_type": "code",
   "execution_count": 67,
   "id": "1b0299ab-02a4-436c-b656-1d9179d82d80",
   "metadata": {
    "colab": {
     "base_uri": "https://localhost:8080/",
     "height": 405
    },
    "id": "1b0299ab-02a4-436c-b656-1d9179d82d80",
    "outputId": "2d167405-7405-4211-bbcf-cf799221a26b",
    "tags": []
   },
   "outputs": [
    {
     "data": {
      "text/html": [
       "<table class=\"simpletable\">\n",
       "<caption>SARIMAX Results</caption>\n",
       "<tr>\n",
       "  <th>Dep. Variable:</th>       <td>adj_close</td>    <th>  No. Observations:  </th>    <td>441</td>  \n",
       "</tr>\n",
       "<tr>\n",
       "  <th>Model:</th>            <td>ARIMA(2, 0, 2)</td>  <th>  Log Likelihood     </th> <td>-775.819</td>\n",
       "</tr>\n",
       "<tr>\n",
       "  <th>Date:</th>            <td>Sun, 13 Mar 2022</td> <th>  AIC                </th> <td>1563.637</td>\n",
       "</tr>\n",
       "<tr>\n",
       "  <th>Time:</th>                <td>21:16:43</td>     <th>  BIC                </th> <td>1588.171</td>\n",
       "</tr>\n",
       "<tr>\n",
       "  <th>Sample:</th>                  <td>0</td>        <th>  HQIC               </th> <td>1573.315</td>\n",
       "</tr>\n",
       "<tr>\n",
       "  <th></th>                      <td> - 441</td>      <th>                     </th>     <td> </td>   \n",
       "</tr>\n",
       "<tr>\n",
       "  <th>Covariance Type:</th>        <td>opg</td>       <th>                     </th>     <td> </td>   \n",
       "</tr>\n",
       "</table>\n",
       "<table class=\"simpletable\">\n",
       "<tr>\n",
       "     <td></td>       <th>coef</th>     <th>std err</th>      <th>z</th>      <th>P>|z|</th>  <th>[0.025</th>    <th>0.975]</th>  \n",
       "</tr>\n",
       "<tr>\n",
       "  <th>const</th>  <td>    0.0725</td> <td>    0.068</td> <td>    1.072</td> <td> 0.284</td> <td>   -0.060</td> <td>    0.205</td>\n",
       "</tr>\n",
       "<tr>\n",
       "  <th>ar.L1</th>  <td>   -1.3453</td> <td>    0.036</td> <td>  -37.740</td> <td> 0.000</td> <td>   -1.415</td> <td>   -1.275</td>\n",
       "</tr>\n",
       "<tr>\n",
       "  <th>ar.L2</th>  <td>   -0.9674</td> <td>    0.032</td> <td>  -30.133</td> <td> 0.000</td> <td>   -1.030</td> <td>   -0.904</td>\n",
       "</tr>\n",
       "<tr>\n",
       "  <th>ma.L1</th>  <td>    1.3082</td> <td>    0.036</td> <td>   36.774</td> <td> 0.000</td> <td>    1.238</td> <td>    1.378</td>\n",
       "</tr>\n",
       "<tr>\n",
       "  <th>ma.L2</th>  <td>    0.9582</td> <td>    0.034</td> <td>   27.830</td> <td> 0.000</td> <td>    0.891</td> <td>    1.026</td>\n",
       "</tr>\n",
       "<tr>\n",
       "  <th>sigma2</th> <td>    1.9724</td> <td>    0.110</td> <td>   17.923</td> <td> 0.000</td> <td>    1.757</td> <td>    2.188</td>\n",
       "</tr>\n",
       "</table>\n",
       "<table class=\"simpletable\">\n",
       "<tr>\n",
       "  <th>Ljung-Box (L1) (Q):</th>     <td>0.62</td> <th>  Jarque-Bera (JB):  </th> <td>24.55</td>\n",
       "</tr>\n",
       "<tr>\n",
       "  <th>Prob(Q):</th>                <td>0.43</td> <th>  Prob(JB):          </th> <td>0.00</td> \n",
       "</tr>\n",
       "<tr>\n",
       "  <th>Heteroskedasticity (H):</th> <td>1.41</td> <th>  Skew:              </th> <td>-0.20</td>\n",
       "</tr>\n",
       "<tr>\n",
       "  <th>Prob(H) (two-sided):</th>    <td>0.04</td> <th>  Kurtosis:          </th> <td>4.08</td> \n",
       "</tr>\n",
       "</table><br/><br/>Warnings:<br/>[1] Covariance matrix calculated using the outer product of gradients (complex-step)."
      ],
      "text/plain": [
       "<class 'statsmodels.iolib.summary.Summary'>\n",
       "\"\"\"\n",
       "                               SARIMAX Results                                \n",
       "==============================================================================\n",
       "Dep. Variable:              adj_close   No. Observations:                  441\n",
       "Model:                 ARIMA(2, 0, 2)   Log Likelihood                -775.819\n",
       "Date:                Sun, 13 Mar 2022   AIC                           1563.637\n",
       "Time:                        21:16:43   BIC                           1588.171\n",
       "Sample:                             0   HQIC                          1573.315\n",
       "                                - 441                                         \n",
       "Covariance Type:                  opg                                         \n",
       "==============================================================================\n",
       "                 coef    std err          z      P>|z|      [0.025      0.975]\n",
       "------------------------------------------------------------------------------\n",
       "const          0.0725      0.068      1.072      0.284      -0.060       0.205\n",
       "ar.L1         -1.3453      0.036    -37.740      0.000      -1.415      -1.275\n",
       "ar.L2         -0.9674      0.032    -30.133      0.000      -1.030      -0.904\n",
       "ma.L1          1.3082      0.036     36.774      0.000       1.238       1.378\n",
       "ma.L2          0.9582      0.034     27.830      0.000       0.891       1.026\n",
       "sigma2         1.9724      0.110     17.923      0.000       1.757       2.188\n",
       "===================================================================================\n",
       "Ljung-Box (L1) (Q):                   0.62   Jarque-Bera (JB):                24.55\n",
       "Prob(Q):                              0.43   Prob(JB):                         0.00\n",
       "Heteroskedasticity (H):               1.41   Skew:                            -0.20\n",
       "Prob(H) (two-sided):                  0.04   Kurtosis:                         4.08\n",
       "===================================================================================\n",
       "\n",
       "Warnings:\n",
       "[1] Covariance matrix calculated using the outer product of gradients (complex-step).\n",
       "\"\"\""
      ]
     },
     "execution_count": 67,
     "metadata": {},
     "output_type": "execute_result"
    }
   ],
   "source": [
    "# estimamos un ARMA (2,2)\n",
    "modelo = ARIMA(pep_diff, order=(2, 0, 2))\n",
    "resultado = modelo.fit()\n",
    "resultado.summary()"
   ]
  },
  {
   "cell_type": "markdown",
   "id": "b7266ed8-1a41-40b2-855b-6024e3f42bd5",
   "metadata": {
    "id": "b7266ed8-1a41-40b2-855b-6024e3f42bd5"
   },
   "source": [
    "En realidad, en este caso, como diferenciamos una vez la serie de tiempo estacionaria para hacerla estacionaria, nuestro modelo ARMA (2,2), es un ARIMA(2,1,2) de la serie original"
   ]
  },
  {
   "cell_type": "code",
   "execution_count": 68,
   "id": "efebd326-8a1f-43cb-944a-d40f633666b9",
   "metadata": {
    "colab": {
     "base_uri": "https://localhost:8080/",
     "height": 498
    },
    "id": "efebd326-8a1f-43cb-944a-d40f633666b9",
    "outputId": "a7ebd5e4-5fde-4c55-d8d5-569b8de71c86"
   },
   "outputs": [
    {
     "name": "stderr",
     "output_type": "stream",
     "text": [
      "C:\\Users\\2400GV\\anaconda3\\lib\\site-packages\\statsmodels\\tsa\\base\\tsa_model.py:581: ValueWarning: A date index has been provided, but it has no associated frequency information and so will be ignored when e.g. forecasting.\n",
      "  warnings.warn('A date index has been provided, but it has no'\n",
      "C:\\Users\\2400GV\\anaconda3\\lib\\site-packages\\statsmodels\\tsa\\base\\tsa_model.py:581: ValueWarning: A date index has been provided, but it has no associated frequency information and so will be ignored when e.g. forecasting.\n",
      "  warnings.warn('A date index has been provided, but it has no'\n",
      "C:\\Users\\2400GV\\anaconda3\\lib\\site-packages\\statsmodels\\tsa\\base\\tsa_model.py:581: ValueWarning: A date index has been provided, but it has no associated frequency information and so will be ignored when e.g. forecasting.\n",
      "  warnings.warn('A date index has been provided, but it has no'\n"
     ]
    },
    {
     "data": {
      "text/html": [
       "<table class=\"simpletable\">\n",
       "<caption>SARIMAX Results</caption>\n",
       "<tr>\n",
       "  <th>Dep. Variable:</th>       <td>adj_close</td>    <th>  No. Observations:  </th>    <td>442</td>  \n",
       "</tr>\n",
       "<tr>\n",
       "  <th>Model:</th>            <td>ARIMA(2, 1, 2)</td>  <th>  Log Likelihood     </th> <td>-776.421</td>\n",
       "</tr>\n",
       "<tr>\n",
       "  <th>Date:</th>            <td>Sun, 13 Mar 2022</td> <th>  AIC                </th> <td>1562.842</td>\n",
       "</tr>\n",
       "<tr>\n",
       "  <th>Time:</th>                <td>21:16:45</td>     <th>  BIC                </th> <td>1583.288</td>\n",
       "</tr>\n",
       "<tr>\n",
       "  <th>Sample:</th>                  <td>0</td>        <th>  HQIC               </th> <td>1570.907</td>\n",
       "</tr>\n",
       "<tr>\n",
       "  <th></th>                      <td> - 442</td>      <th>                     </th>     <td> </td>   \n",
       "</tr>\n",
       "<tr>\n",
       "  <th>Covariance Type:</th>        <td>opg</td>       <th>                     </th>     <td> </td>   \n",
       "</tr>\n",
       "</table>\n",
       "<table class=\"simpletable\">\n",
       "<tr>\n",
       "     <td></td>       <th>coef</th>     <th>std err</th>      <th>z</th>      <th>P>|z|</th>  <th>[0.025</th>    <th>0.975]</th>  \n",
       "</tr>\n",
       "<tr>\n",
       "  <th>ar.L1</th>  <td>   -1.3452</td> <td>    0.035</td> <td>  -38.022</td> <td> 0.000</td> <td>   -1.415</td> <td>   -1.276</td>\n",
       "</tr>\n",
       "<tr>\n",
       "  <th>ar.L2</th>  <td>   -0.9676</td> <td>    0.032</td> <td>  -30.385</td> <td> 0.000</td> <td>   -1.030</td> <td>   -0.905</td>\n",
       "</tr>\n",
       "<tr>\n",
       "  <th>ma.L1</th>  <td>    1.3084</td> <td>    0.035</td> <td>   37.210</td> <td> 0.000</td> <td>    1.239</td> <td>    1.377</td>\n",
       "</tr>\n",
       "<tr>\n",
       "  <th>ma.L2</th>  <td>    0.9587</td> <td>    0.034</td> <td>   28.221</td> <td> 0.000</td> <td>    0.892</td> <td>    1.025</td>\n",
       "</tr>\n",
       "<tr>\n",
       "  <th>sigma2</th> <td>    1.9778</td> <td>    0.110</td> <td>   17.905</td> <td> 0.000</td> <td>    1.761</td> <td>    2.194</td>\n",
       "</tr>\n",
       "</table>\n",
       "<table class=\"simpletable\">\n",
       "<tr>\n",
       "  <th>Ljung-Box (L1) (Q):</th>     <td>0.63</td> <th>  Jarque-Bera (JB):  </th> <td>24.56</td>\n",
       "</tr>\n",
       "<tr>\n",
       "  <th>Prob(Q):</th>                <td>0.43</td> <th>  Prob(JB):          </th> <td>0.00</td> \n",
       "</tr>\n",
       "<tr>\n",
       "  <th>Heteroskedasticity (H):</th> <td>1.40</td> <th>  Skew:              </th> <td>-0.20</td>\n",
       "</tr>\n",
       "<tr>\n",
       "  <th>Prob(H) (two-sided):</th>    <td>0.04</td> <th>  Kurtosis:          </th> <td>4.08</td> \n",
       "</tr>\n",
       "</table><br/><br/>Warnings:<br/>[1] Covariance matrix calculated using the outer product of gradients (complex-step)."
      ],
      "text/plain": [
       "<class 'statsmodels.iolib.summary.Summary'>\n",
       "\"\"\"\n",
       "                               SARIMAX Results                                \n",
       "==============================================================================\n",
       "Dep. Variable:              adj_close   No. Observations:                  442\n",
       "Model:                 ARIMA(2, 1, 2)   Log Likelihood                -776.421\n",
       "Date:                Sun, 13 Mar 2022   AIC                           1562.842\n",
       "Time:                        21:16:45   BIC                           1583.288\n",
       "Sample:                             0   HQIC                          1570.907\n",
       "                                - 442                                         \n",
       "Covariance Type:                  opg                                         \n",
       "==============================================================================\n",
       "                 coef    std err          z      P>|z|      [0.025      0.975]\n",
       "------------------------------------------------------------------------------\n",
       "ar.L1         -1.3452      0.035    -38.022      0.000      -1.415      -1.276\n",
       "ar.L2         -0.9676      0.032    -30.385      0.000      -1.030      -0.905\n",
       "ma.L1          1.3084      0.035     37.210      0.000       1.239       1.377\n",
       "ma.L2          0.9587      0.034     28.221      0.000       0.892       1.025\n",
       "sigma2         1.9778      0.110     17.905      0.000       1.761       2.194\n",
       "===================================================================================\n",
       "Ljung-Box (L1) (Q):                   0.63   Jarque-Bera (JB):                24.56\n",
       "Prob(Q):                              0.43   Prob(JB):                         0.00\n",
       "Heteroskedasticity (H):               1.40   Skew:                            -0.20\n",
       "Prob(H) (two-sided):                  0.04   Kurtosis:                         4.08\n",
       "===================================================================================\n",
       "\n",
       "Warnings:\n",
       "[1] Covariance matrix calculated using the outer product of gradients (complex-step).\n",
       "\"\"\""
      ]
     },
     "execution_count": 68,
     "metadata": {},
     "output_type": "execute_result"
    }
   ],
   "source": [
    "# estimamos un ARIMA (2,2)\n",
    "modelo2 = ARIMA(pep['adj_close'], order=(2, 1, 2))\n",
    "resultado2 = modelo2.fit()\n",
    "resultado2.summary()"
   ]
  },
  {
   "cell_type": "code",
   "execution_count": 69,
   "id": "2104b093-3091-4bbe-a125-74bf4d2f8102",
   "metadata": {
    "colab": {
     "base_uri": "https://localhost:8080/"
    },
    "id": "2104b093-3091-4bbe-a125-74bf4d2f8102",
    "outputId": "f91681be-b72d-4271-b057-a3e6eac5179e"
   },
   "outputs": [
    {
     "name": "stderr",
     "output_type": "stream",
     "text": [
      "C:\\Users\\2400GV\\AppData\\Local\\Temp/ipykernel_6572/3699779431.py:3: SettingWithCopyWarning: \n",
      "A value is trying to be set on a copy of a slice from a DataFrame\n",
      "\n",
      "See the caveats in the documentation: https://pandas.pydata.org/pandas-docs/stable/user_guide/indexing.html#returning-a-view-versus-a-copy\n",
      "  pep['pronostico'][0] = pep['adj_close'][0]\n"
     ]
    }
   ],
   "source": [
    "# vamos a estimar la serie con el modelo ARIMA\n",
    "pep['pronostico'] = resultado2.predict()\n",
    "pep['pronostico'][0] = pep['adj_close'][0]"
   ]
  },
  {
   "cell_type": "markdown",
   "id": "627b25d7-a2b8-4b4d-b3d7-e7cf91875ae1",
   "metadata": {
    "id": "627b25d7-a2b8-4b4d-b3d7-e7cf91875ae1"
   },
   "source": [
    "graficamos la y_estimada con la y_original"
   ]
  },
  {
   "cell_type": "code",
   "execution_count": 70,
   "id": "d4977b8a-35a1-4f1f-9093-e18848fa24b3",
   "metadata": {
    "colab": {
     "base_uri": "https://localhost:8080/",
     "height": 276
    },
    "id": "d4977b8a-35a1-4f1f-9093-e18848fa24b3",
    "outputId": "57950a39-de1e-4238-ce4f-347771ce2d10"
   },
   "outputs": [
    {
     "data": {
      "image/png": "[encoded data removed]",
      "text/plain": [
       "<Figure size 720x540 with 1 Axes>"
      ]
     },
     "metadata": {
      "needs_background": "light"
     },
     "output_type": "display_data"
    }
   ],
   "source": [
    "pep[['adj_close', 'pronostico']].plot()\n",
    "plt.show()"
   ]
  },
  {
   "cell_type": "code",
   "execution_count": 71,
   "id": "7c0c4714-ccd7-4a1f-be0d-f6cb888bf2f7",
   "metadata": {
    "id": "7c0c4714-ccd7-4a1f-be0d-f6cb888bf2f7",
    "outputId": "0abeadc7-d0e7-4308-f226-488dfe1acc2b"
   },
   "outputs": [
    {
     "data": {
      "text/plain": [
       "442"
      ]
     },
     "execution_count": 71,
     "metadata": {},
     "output_type": "execute_result"
    }
   ],
   "source": [
    "#calculamos cuantas observaciones tenemos para hacer nuestra predicción\n",
    "len(pep)"
   ]
  },
  {
   "cell_type": "markdown",
   "id": "d7fa0880-e14e-4b75-91f0-29cb033ffb41",
   "metadata": {
    "id": "d7fa0880-e14e-4b75-91f0-29cb033ffb41"
   },
   "source": [
    "la función len nos arrojo que tenemos 442 observaciones,  quiere decir que el lunes sería la observación 443, el martes la 444, y el miércoles la 445"
   ]
  },
  {
   "cell_type": "code",
   "execution_count": 72,
   "id": "ea5df273-90a0-45ea-9ac8-8bdafb593264",
   "metadata": {
    "id": "ea5df273-90a0-45ea-9ac8-8bdafb593264",
    "outputId": "a545f998-8c58-4005-a1e6-0a4ac2d7bcb5"
   },
   "outputs": [
    {
     "name": "stderr",
     "output_type": "stream",
     "text": [
      "C:\\Users\\2400GV\\anaconda3\\lib\\site-packages\\statsmodels\\tsa\\base\\tsa_model.py:376: ValueWarning: No supported index is available. Prediction results will be given with an integer index beginning at `start`.\n",
      "  warnings.warn('No supported index is available.'\n"
     ]
    },
    {
     "data": {
      "text/plain": [
       "443    153.183009\n",
       "444    153.871506\n",
       "445    153.353423\n",
       "Name: predicted_mean, dtype: float64"
      ]
     },
     "execution_count": 72,
     "metadata": {},
     "output_type": "execute_result"
    }
   ],
   "source": [
    "## vamos a pronosticar esos días\n",
    "resultado2.predict(443, 445)"
   ]
  },
  {
   "cell_type": "markdown",
   "id": "cba6c415-c70a-4ede-86bb-003df8d470e4",
   "metadata": {
    "id": "cba6c415-c70a-4ede-86bb-003df8d470e4"
   },
   "source": [
    "mi pronostico para el lunes 14 de marzo es que la acción de walmart tenga un precio de cierre (ajustado) de 153.183009"
   ]
  },
  {
   "cell_type": "markdown",
   "id": "17f82de6-8c65-41c1-bb30-53a12a2d3890",
   "metadata": {
    "id": "17f82de6-8c65-41c1-bb30-53a12a2d3890"
   },
   "source": [
    "El viernes cerro en 153.729996\t"
   ]
  },
  {
   "cell_type": "code",
   "execution_count": null,
   "id": "6e33f351",
   "metadata": {},
   "outputs": [],
   "source": []
  }
 ],
 "metadata": {
  "colab": {
   "name": "MAMA_1870354_EAG51_actividad8_mar2022",
   "provenance": []
  },
  "kernelspec": {
   "display_name": "Python 3 (ipykernel)",
   "language": "python",
   "name": "python3"
  },
  "language_info": {
   "codemirror_mode": {
    "name": "ipython",
    "version": 3
   },
   "file_extension": ".py",
   "mimetype": "text/x-python",
   "name": "python",
   "nbconvert_exporter": "python",
   "pygments_lexer": "ipython3",
   "version": "3.9.7"
  }
 },
 "nbformat": 4,
 "nbformat_minor": 5
}
